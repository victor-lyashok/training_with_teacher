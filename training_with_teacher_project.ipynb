{
 "cells": [
  {
   "cell_type": "markdown",
   "metadata": {
    "toc": true
   },
   "source": [
    "<h1>Содержание<span class=\"tocSkip\"></span></h1>\n",
    "<div class=\"toc\"><ul class=\"toc-item\"><li><span><a href=\"#Подготовка-данных\" data-toc-modified-id=\"Подготовка-данных-1\"><span class=\"toc-item-num\">1&nbsp;&nbsp;</span>Подготовка данных</a></span></li><li><span><a href=\"#Исследование-задачи\" data-toc-modified-id=\"Исследование-задачи-2\"><span class=\"toc-item-num\">2&nbsp;&nbsp;</span>Исследование задачи</a></span></li><li><span><a href=\"#Борьба-с-дисбалансом\" data-toc-modified-id=\"Борьба-с-дисбалансом-3\"><span class=\"toc-item-num\">3&nbsp;&nbsp;</span>Борьба с дисбалансом</a></span><ul class=\"toc-item\"><li><span><a href=\"#Взвешивание-выборки\" data-toc-modified-id=\"Взвешивание-выборки-3.1\"><span class=\"toc-item-num\">3.1&nbsp;&nbsp;</span>Взвешивание выборки</a></span><ul class=\"toc-item\"><li><span><a href=\"#Логистическая-регрессия\" data-toc-modified-id=\"Логистическая-регрессия-3.1.1\"><span class=\"toc-item-num\">3.1.1&nbsp;&nbsp;</span>Логистическая регрессия</a></span></li><li><span><a href=\"#Случайный-лес\" data-toc-modified-id=\"Случайный-лес-3.1.2\"><span class=\"toc-item-num\">3.1.2&nbsp;&nbsp;</span>Случайный лес</a></span></li></ul></li><li><span><a href=\"#Увеличение-выборки\" data-toc-modified-id=\"Увеличение-выборки-3.2\"><span class=\"toc-item-num\">3.2&nbsp;&nbsp;</span>Увеличение выборки</a></span><ul class=\"toc-item\"><li><span><a href=\"#Логистическая-регрессия\" data-toc-modified-id=\"Логистическая-регрессия-3.2.1\"><span class=\"toc-item-num\">3.2.1&nbsp;&nbsp;</span>Логистическая регрессия</a></span></li><li><span><a href=\"#Случайный-лес\" data-toc-modified-id=\"Случайный-лес-3.2.2\"><span class=\"toc-item-num\">3.2.2&nbsp;&nbsp;</span>Случайный лес</a></span></li></ul></li></ul></li><li><span><a href=\"#Тестирование-модели\" data-toc-modified-id=\"Тестирование-модели-4\"><span class=\"toc-item-num\">4&nbsp;&nbsp;</span>Тестирование модели</a></span></li><li><span><a href=\"#Чек-лист-готовности-проекта\" data-toc-modified-id=\"Чек-лист-готовности-проекта-5\"><span class=\"toc-item-num\">5&nbsp;&nbsp;</span>Чек-лист готовности проекта</a></span></li></ul></div>"
   ]
  },
  {
   "cell_type": "markdown",
   "metadata": {},
   "source": [
    "# Отток клиентов"
   ]
  },
  {
   "cell_type": "markdown",
   "metadata": {},
   "source": [
    "Из «Бета-Банка» стали уходить клиенты. Каждый месяц. Немного, но заметно. Банковские маркетологи посчитали: сохранять текущих клиентов дешевле, чем привлекать новых.\n",
    "\n",
    "Нужно спрогнозировать, уйдёт клиент из банка в ближайшее время или нет. Вам предоставлены исторические данные о поведении клиентов и расторжении договоров с банком. \n",
    "\n",
    "Постройте модель с предельно большим значением *F1*-меры. Чтобы сдать проект успешно, нужно довести метрику до 0.59. Проверьте *F1*-меру на тестовой выборке самостоятельно.\n",
    "\n",
    "Дополнительно измеряйте *AUC-ROC*, сравнивайте её значение с *F1*-мерой.\n",
    "\n",
    "Источник данных: [https://www.kaggle.com/barelydedicated/bank-customer-churn-modeling](https://www.kaggle.com/barelydedicated/bank-customer-churn-modeling)"
   ]
  },
  {
   "cell_type": "markdown",
   "metadata": {},
   "source": [
    "## Подготовка данных"
   ]
  },
  {
   "cell_type": "markdown",
   "metadata": {},
   "source": [
    "Импортируем базы:"
   ]
  },
  {
   "cell_type": "code",
   "execution_count": 1,
   "metadata": {},
   "outputs": [],
   "source": [
    "import random\n",
    "import numpy as np\n",
    "import pandas as pd\n",
    "import matplotlib.pyplot as plt\n",
    "import seaborn as sns\n",
    "\n",
    "from sklearn.model_selection import train_test_split\n",
    "from sklearn.preprocessing import StandardScaler\n",
    "from sklearn.ensemble import RandomForestClassifier\n",
    "from sklearn.linear_model import LogisticRegression\n",
    "from sklearn.model_selection import GridSearchCV\n",
    "from sklearn.utils import shuffle\n",
    "from sklearn.metrics import f1_score\n",
    "from sklearn.metrics import roc_auc_score"
   ]
  },
  {
   "cell_type": "code",
   "execution_count": 3,
   "metadata": {},
   "outputs": [],
   "source": [
    "df = pd.read_csv('Churn.csv')"
   ]
  },
  {
   "cell_type": "markdown",
   "metadata": {},
   "source": [
    "Исследуем базу данных:"
   ]
  },
  {
   "cell_type": "code",
   "execution_count": 273,
   "metadata": {},
   "outputs": [
    {
     "name": "stdout",
     "output_type": "stream",
     "text": [
      "<class 'pandas.core.frame.DataFrame'>\n",
      "RangeIndex: 10000 entries, 0 to 9999\n",
      "Data columns (total 14 columns):\n",
      " #   Column           Non-Null Count  Dtype  \n",
      "---  ------           --------------  -----  \n",
      " 0   RowNumber        10000 non-null  int64  \n",
      " 1   CustomerId       10000 non-null  int64  \n",
      " 2   Surname          10000 non-null  object \n",
      " 3   CreditScore      10000 non-null  int64  \n",
      " 4   Geography        10000 non-null  object \n",
      " 5   Gender           10000 non-null  object \n",
      " 6   Age              10000 non-null  int64  \n",
      " 7   Tenure           9091 non-null   float64\n",
      " 8   Balance          10000 non-null  float64\n",
      " 9   NumOfProducts    10000 non-null  int64  \n",
      " 10  HasCrCard        10000 non-null  int64  \n",
      " 11  IsActiveMember   10000 non-null  int64  \n",
      " 12  EstimatedSalary  10000 non-null  float64\n",
      " 13  Exited           10000 non-null  int64  \n",
      "dtypes: float64(3), int64(8), object(3)\n",
      "memory usage: 1.1+ MB\n"
     ]
    }
   ],
   "source": [
    "df.info()"
   ]
  },
  {
   "cell_type": "code",
   "execution_count": 274,
   "metadata": {},
   "outputs": [
    {
     "data": {
      "text/html": [
       "<div>\n",
       "<style scoped>\n",
       "    .dataframe tbody tr th:only-of-type {\n",
       "        vertical-align: middle;\n",
       "    }\n",
       "\n",
       "    .dataframe tbody tr th {\n",
       "        vertical-align: top;\n",
       "    }\n",
       "\n",
       "    .dataframe thead th {\n",
       "        text-align: right;\n",
       "    }\n",
       "</style>\n",
       "<table border=\"1\" class=\"dataframe\">\n",
       "  <thead>\n",
       "    <tr style=\"text-align: right;\">\n",
       "      <th></th>\n",
       "      <th>RowNumber</th>\n",
       "      <th>CustomerId</th>\n",
       "      <th>Surname</th>\n",
       "      <th>CreditScore</th>\n",
       "      <th>Geography</th>\n",
       "      <th>Gender</th>\n",
       "      <th>Age</th>\n",
       "      <th>Tenure</th>\n",
       "      <th>Balance</th>\n",
       "      <th>NumOfProducts</th>\n",
       "      <th>HasCrCard</th>\n",
       "      <th>IsActiveMember</th>\n",
       "      <th>EstimatedSalary</th>\n",
       "      <th>Exited</th>\n",
       "    </tr>\n",
       "  </thead>\n",
       "  <tbody>\n",
       "    <tr>\n",
       "      <th>5143</th>\n",
       "      <td>5144</td>\n",
       "      <td>15670584</td>\n",
       "      <td>Nkemakolam</td>\n",
       "      <td>646</td>\n",
       "      <td>Spain</td>\n",
       "      <td>Male</td>\n",
       "      <td>31</td>\n",
       "      <td>2.0</td>\n",
       "      <td>0.00</td>\n",
       "      <td>1</td>\n",
       "      <td>1</td>\n",
       "      <td>1</td>\n",
       "      <td>170821.43</td>\n",
       "      <td>1</td>\n",
       "    </tr>\n",
       "    <tr>\n",
       "      <th>8114</th>\n",
       "      <td>8115</td>\n",
       "      <td>15607269</td>\n",
       "      <td>Costa</td>\n",
       "      <td>492</td>\n",
       "      <td>Germany</td>\n",
       "      <td>Female</td>\n",
       "      <td>49</td>\n",
       "      <td>2.0</td>\n",
       "      <td>151249.45</td>\n",
       "      <td>2</td>\n",
       "      <td>1</td>\n",
       "      <td>1</td>\n",
       "      <td>167237.94</td>\n",
       "      <td>0</td>\n",
       "    </tr>\n",
       "    <tr>\n",
       "      <th>6112</th>\n",
       "      <td>6113</td>\n",
       "      <td>15654372</td>\n",
       "      <td>Pearce</td>\n",
       "      <td>462</td>\n",
       "      <td>Germany</td>\n",
       "      <td>Male</td>\n",
       "      <td>34</td>\n",
       "      <td>1.0</td>\n",
       "      <td>94682.56</td>\n",
       "      <td>2</td>\n",
       "      <td>1</td>\n",
       "      <td>0</td>\n",
       "      <td>138478.20</td>\n",
       "      <td>0</td>\n",
       "    </tr>\n",
       "    <tr>\n",
       "      <th>331</th>\n",
       "      <td>332</td>\n",
       "      <td>15601274</td>\n",
       "      <td>Hsieh</td>\n",
       "      <td>667</td>\n",
       "      <td>Spain</td>\n",
       "      <td>Female</td>\n",
       "      <td>40</td>\n",
       "      <td>1.0</td>\n",
       "      <td>146502.07</td>\n",
       "      <td>1</td>\n",
       "      <td>1</td>\n",
       "      <td>0</td>\n",
       "      <td>19162.89</td>\n",
       "      <td>0</td>\n",
       "    </tr>\n",
       "    <tr>\n",
       "      <th>1511</th>\n",
       "      <td>1512</td>\n",
       "      <td>15701765</td>\n",
       "      <td>Vincent</td>\n",
       "      <td>575</td>\n",
       "      <td>Spain</td>\n",
       "      <td>Female</td>\n",
       "      <td>37</td>\n",
       "      <td>0.0</td>\n",
       "      <td>0.00</td>\n",
       "      <td>2</td>\n",
       "      <td>0</td>\n",
       "      <td>0</td>\n",
       "      <td>30114.32</td>\n",
       "      <td>0</td>\n",
       "    </tr>\n",
       "    <tr>\n",
       "      <th>5864</th>\n",
       "      <td>5865</td>\n",
       "      <td>15803840</td>\n",
       "      <td>Forbes</td>\n",
       "      <td>729</td>\n",
       "      <td>France</td>\n",
       "      <td>Female</td>\n",
       "      <td>32</td>\n",
       "      <td>9.0</td>\n",
       "      <td>0.00</td>\n",
       "      <td>2</td>\n",
       "      <td>0</td>\n",
       "      <td>0</td>\n",
       "      <td>150803.44</td>\n",
       "      <td>0</td>\n",
       "    </tr>\n",
       "    <tr>\n",
       "      <th>5113</th>\n",
       "      <td>5114</td>\n",
       "      <td>15616152</td>\n",
       "      <td>Pai</td>\n",
       "      <td>754</td>\n",
       "      <td>France</td>\n",
       "      <td>Female</td>\n",
       "      <td>47</td>\n",
       "      <td>1.0</td>\n",
       "      <td>185513.67</td>\n",
       "      <td>1</td>\n",
       "      <td>1</td>\n",
       "      <td>0</td>\n",
       "      <td>27438.83</td>\n",
       "      <td>0</td>\n",
       "    </tr>\n",
       "    <tr>\n",
       "      <th>5283</th>\n",
       "      <td>5284</td>\n",
       "      <td>15799815</td>\n",
       "      <td>Bobrov</td>\n",
       "      <td>656</td>\n",
       "      <td>Germany</td>\n",
       "      <td>Female</td>\n",
       "      <td>23</td>\n",
       "      <td>4.0</td>\n",
       "      <td>163549.63</td>\n",
       "      <td>1</td>\n",
       "      <td>0</td>\n",
       "      <td>1</td>\n",
       "      <td>21085.12</td>\n",
       "      <td>0</td>\n",
       "    </tr>\n",
       "    <tr>\n",
       "      <th>9742</th>\n",
       "      <td>9743</td>\n",
       "      <td>15620577</td>\n",
       "      <td>Wood</td>\n",
       "      <td>715</td>\n",
       "      <td>France</td>\n",
       "      <td>Male</td>\n",
       "      <td>45</td>\n",
       "      <td>4.0</td>\n",
       "      <td>0.00</td>\n",
       "      <td>2</td>\n",
       "      <td>1</td>\n",
       "      <td>1</td>\n",
       "      <td>55043.93</td>\n",
       "      <td>0</td>\n",
       "    </tr>\n",
       "    <tr>\n",
       "      <th>3778</th>\n",
       "      <td>3779</td>\n",
       "      <td>15658486</td>\n",
       "      <td>Gidney</td>\n",
       "      <td>579</td>\n",
       "      <td>Spain</td>\n",
       "      <td>Female</td>\n",
       "      <td>59</td>\n",
       "      <td>NaN</td>\n",
       "      <td>148021.12</td>\n",
       "      <td>1</td>\n",
       "      <td>1</td>\n",
       "      <td>1</td>\n",
       "      <td>74878.22</td>\n",
       "      <td>0</td>\n",
       "    </tr>\n",
       "  </tbody>\n",
       "</table>\n",
       "</div>"
      ],
      "text/plain": [
       "      RowNumber  CustomerId     Surname  CreditScore Geography  Gender  Age  \\\n",
       "5143       5144    15670584  Nkemakolam          646     Spain    Male   31   \n",
       "8114       8115    15607269       Costa          492   Germany  Female   49   \n",
       "6112       6113    15654372      Pearce          462   Germany    Male   34   \n",
       "331         332    15601274       Hsieh          667     Spain  Female   40   \n",
       "1511       1512    15701765     Vincent          575     Spain  Female   37   \n",
       "5864       5865    15803840      Forbes          729    France  Female   32   \n",
       "5113       5114    15616152         Pai          754    France  Female   47   \n",
       "5283       5284    15799815      Bobrov          656   Germany  Female   23   \n",
       "9742       9743    15620577        Wood          715    France    Male   45   \n",
       "3778       3779    15658486      Gidney          579     Spain  Female   59   \n",
       "\n",
       "      Tenure    Balance  NumOfProducts  HasCrCard  IsActiveMember  \\\n",
       "5143     2.0       0.00              1          1               1   \n",
       "8114     2.0  151249.45              2          1               1   \n",
       "6112     1.0   94682.56              2          1               0   \n",
       "331      1.0  146502.07              1          1               0   \n",
       "1511     0.0       0.00              2          0               0   \n",
       "5864     9.0       0.00              2          0               0   \n",
       "5113     1.0  185513.67              1          1               0   \n",
       "5283     4.0  163549.63              1          0               1   \n",
       "9742     4.0       0.00              2          1               1   \n",
       "3778     NaN  148021.12              1          1               1   \n",
       "\n",
       "      EstimatedSalary  Exited  \n",
       "5143        170821.43       1  \n",
       "8114        167237.94       0  \n",
       "6112        138478.20       0  \n",
       "331          19162.89       0  \n",
       "1511         30114.32       0  \n",
       "5864        150803.44       0  \n",
       "5113         27438.83       0  \n",
       "5283         21085.12       0  \n",
       "9742         55043.93       0  \n",
       "3778         74878.22       0  "
      ]
     },
     "execution_count": 274,
     "metadata": {},
     "output_type": "execute_result"
    }
   ],
   "source": [
    "df.sample(10)"
   ]
  },
  {
   "cell_type": "markdown",
   "metadata": {},
   "source": [
    "**Признаки**\n",
    "* \t\tRowNumber — индекс строки в данных\n",
    "* \t\tCustomerId — уникальный идентификатор клиента\n",
    "* \t\tSurname — фамилия\n",
    "* \t\tCreditScore — кредитный рейтинг\n",
    "* \t\tGeography — страна проживания\n",
    "* \t\tGender — пол\n",
    "* \t\tAge — возраст\n",
    "* \t\tTenure — сколько лет человек является клиентом банка\n",
    "* \t\tBalance — баланс на счёте\n",
    "* \t\tNumOfProducts — количество продуктов банка, используемых клиентом\n",
    "* \t\tHasCrCard — наличие кредитной карты\n",
    "* \t\tIsActiveMember — активность клиента\n",
    "* \t\tEstimatedSalary — предполагаемая зарплата\n",
    "\n",
    "\n",
    "**Целевой признак**\n",
    "\n",
    "Exited — факт ухода клиента"
   ]
  },
  {
   "cell_type": "markdown",
   "metadata": {},
   "source": [
    "Меняем названия колонок:"
   ]
  },
  {
   "cell_type": "code",
   "execution_count": 275,
   "metadata": {},
   "outputs": [],
   "source": [
    "old_names = df.columns\n",
    "new_names = ['row_number', 'customer_id', 'surname', 'credit_score', 'geography',\n",
    "       'gender', 'age', 'tenure', 'balance', 'num_of_products', 'has_cr_card',\n",
    "       'is_active_member', 'estimated_salary', 'exited']\n",
    "names_dict = dict(zip(old_names, new_names))\n",
    "df = df.rename(columns=names_dict)"
   ]
  },
  {
   "cell_type": "markdown",
   "metadata": {},
   "source": [
    "Смортрим наличие явных дубликатов:"
   ]
  },
  {
   "cell_type": "code",
   "execution_count": 276,
   "metadata": {},
   "outputs": [
    {
     "data": {
      "text/plain": [
       "0"
      ]
     },
     "execution_count": 276,
     "metadata": {},
     "output_type": "execute_result"
    }
   ],
   "source": [
    "df.duplicated().sum()"
   ]
  },
  {
   "cell_type": "markdown",
   "metadata": {},
   "source": [
    "Анализ количественных и дамми переменных:"
   ]
  },
  {
   "cell_type": "code",
   "execution_count": 277,
   "metadata": {
    "scrolled": false
   },
   "outputs": [
    {
     "name": "stdout",
     "output_type": "stream",
     "text": [
      "credit_score\n",
      "count    10000.000000\n",
      "mean       650.528800\n",
      "std         96.653299\n",
      "min        350.000000\n",
      "25%        584.000000\n",
      "50%        652.000000\n",
      "75%        718.000000\n",
      "max        850.000000\n",
      "Name: credit_score, dtype: float64 \n",
      "\n",
      "age\n",
      "count    10000.000000\n",
      "mean        38.921800\n",
      "std         10.487806\n",
      "min         18.000000\n",
      "25%         32.000000\n",
      "50%         37.000000\n",
      "75%         44.000000\n",
      "max         92.000000\n",
      "Name: age, dtype: float64 \n",
      "\n",
      "tenure\n",
      "count    9091.000000\n",
      "mean        4.997690\n",
      "std         2.894723\n",
      "min         0.000000\n",
      "25%         2.000000\n",
      "50%         5.000000\n",
      "75%         7.000000\n",
      "max        10.000000\n",
      "Name: tenure, dtype: float64 \n",
      "\n",
      "balance\n",
      "count     10000.000000\n",
      "mean      76485.889288\n",
      "std       62397.405202\n",
      "min           0.000000\n",
      "25%           0.000000\n",
      "50%       97198.540000\n",
      "75%      127644.240000\n",
      "max      250898.090000\n",
      "Name: balance, dtype: float64 \n",
      "\n",
      "num_of_products\n",
      "count    10000.000000\n",
      "mean         1.530200\n",
      "std          0.581654\n",
      "min          1.000000\n",
      "25%          1.000000\n",
      "50%          1.000000\n",
      "75%          2.000000\n",
      "max          4.000000\n",
      "Name: num_of_products, dtype: float64 \n",
      "\n",
      "has_cr_card\n",
      "count    10000.00000\n",
      "mean         0.70550\n",
      "std          0.45584\n",
      "min          0.00000\n",
      "25%          0.00000\n",
      "50%          1.00000\n",
      "75%          1.00000\n",
      "max          1.00000\n",
      "Name: has_cr_card, dtype: float64 \n",
      "\n",
      "is_active_member\n",
      "count    10000.000000\n",
      "mean         0.515100\n",
      "std          0.499797\n",
      "min          0.000000\n",
      "25%          0.000000\n",
      "50%          1.000000\n",
      "75%          1.000000\n",
      "max          1.000000\n",
      "Name: is_active_member, dtype: float64 \n",
      "\n",
      "estimated_salary\n",
      "count     10000.000000\n",
      "mean     100090.239881\n",
      "std       57510.492818\n",
      "min          11.580000\n",
      "25%       51002.110000\n",
      "50%      100193.915000\n",
      "75%      149388.247500\n",
      "max      199992.480000\n",
      "Name: estimated_salary, dtype: float64 \n",
      "\n",
      "exited\n",
      "count    10000.000000\n",
      "mean         0.203700\n",
      "std          0.402769\n",
      "min          0.000000\n",
      "25%          0.000000\n",
      "50%          0.000000\n",
      "75%          0.000000\n",
      "max          1.000000\n",
      "Name: exited, dtype: float64 \n",
      "\n"
     ]
    }
   ],
   "source": [
    "num_list = ['credit_score', 'age', 'tenure', 'balance', \n",
    "        'num_of_products', 'has_cr_card','is_active_member', 'estimated_salary', 'exited']\n",
    "for x in num_list:\n",
    "    print(x)\n",
    "    print(df[x].describe(), '\\n')"
   ]
  },
  {
   "cell_type": "code",
   "execution_count": 278,
   "metadata": {
    "scrolled": false
   },
   "outputs": [
    {
     "data": {
      "text/plain": [
       "array([[<AxesSubplot:title={'center':'credit_score'}>,\n",
       "        <AxesSubplot:title={'center':'age'}>,\n",
       "        <AxesSubplot:title={'center':'tenure'}>],\n",
       "       [<AxesSubplot:title={'center':'balance'}>,\n",
       "        <AxesSubplot:title={'center':'num_of_products'}>,\n",
       "        <AxesSubplot:title={'center':'has_cr_card'}>],\n",
       "       [<AxesSubplot:title={'center':'is_active_member'}>,\n",
       "        <AxesSubplot:title={'center':'estimated_salary'}>,\n",
       "        <AxesSubplot:title={'center':'exited'}>]], dtype=object)"
      ]
     },
     "execution_count": 278,
     "metadata": {},
     "output_type": "execute_result"
    },
    {
     "data": {
      "image/png": "[encoded data removed]",
      "text/plain": [
       "<Figure size 1080x1080 with 9 Axes>"
      ]
     },
     "metadata": {
      "needs_background": "light"
     },
     "output_type": "display_data"
    }
   ],
   "source": [
    "df[num_list].hist(figsize=(15,15))"
   ]
  },
  {
   "cell_type": "markdown",
   "metadata": {},
   "source": [
    "Анализ пропусков в переменной клиентского стажа:"
   ]
  },
  {
   "cell_type": "code",
   "execution_count": 279,
   "metadata": {
    "scrolled": false
   },
   "outputs": [
    {
     "data": {
      "text/html": [
       "<div>\n",
       "<style scoped>\n",
       "    .dataframe tbody tr th:only-of-type {\n",
       "        vertical-align: middle;\n",
       "    }\n",
       "\n",
       "    .dataframe tbody tr th {\n",
       "        vertical-align: top;\n",
       "    }\n",
       "\n",
       "    .dataframe thead th {\n",
       "        text-align: right;\n",
       "    }\n",
       "</style>\n",
       "<table border=\"1\" class=\"dataframe\">\n",
       "  <thead>\n",
       "    <tr style=\"text-align: right;\">\n",
       "      <th></th>\n",
       "      <th>row_number</th>\n",
       "      <th>customer_id</th>\n",
       "      <th>surname</th>\n",
       "      <th>credit_score</th>\n",
       "      <th>geography</th>\n",
       "      <th>gender</th>\n",
       "      <th>age</th>\n",
       "      <th>tenure</th>\n",
       "      <th>balance</th>\n",
       "      <th>num_of_products</th>\n",
       "      <th>has_cr_card</th>\n",
       "      <th>is_active_member</th>\n",
       "      <th>estimated_salary</th>\n",
       "      <th>exited</th>\n",
       "    </tr>\n",
       "  </thead>\n",
       "  <tbody>\n",
       "    <tr>\n",
       "      <th>846</th>\n",
       "      <td>847</td>\n",
       "      <td>15608968</td>\n",
       "      <td>Averyanov</td>\n",
       "      <td>714</td>\n",
       "      <td>Germany</td>\n",
       "      <td>Male</td>\n",
       "      <td>21</td>\n",
       "      <td>NaN</td>\n",
       "      <td>86402.52</td>\n",
       "      <td>2</td>\n",
       "      <td>0</td>\n",
       "      <td>0</td>\n",
       "      <td>27330.59</td>\n",
       "      <td>0</td>\n",
       "    </tr>\n",
       "    <tr>\n",
       "      <th>2786</th>\n",
       "      <td>2787</td>\n",
       "      <td>15585100</td>\n",
       "      <td>Rioux</td>\n",
       "      <td>511</td>\n",
       "      <td>Germany</td>\n",
       "      <td>Female</td>\n",
       "      <td>40</td>\n",
       "      <td>NaN</td>\n",
       "      <td>124401.60</td>\n",
       "      <td>1</td>\n",
       "      <td>1</td>\n",
       "      <td>0</td>\n",
       "      <td>198814.24</td>\n",
       "      <td>1</td>\n",
       "    </tr>\n",
       "    <tr>\n",
       "      <th>30</th>\n",
       "      <td>31</td>\n",
       "      <td>15589475</td>\n",
       "      <td>Azikiwe</td>\n",
       "      <td>591</td>\n",
       "      <td>Spain</td>\n",
       "      <td>Female</td>\n",
       "      <td>39</td>\n",
       "      <td>NaN</td>\n",
       "      <td>0.00</td>\n",
       "      <td>3</td>\n",
       "      <td>1</td>\n",
       "      <td>0</td>\n",
       "      <td>140469.38</td>\n",
       "      <td>1</td>\n",
       "    </tr>\n",
       "    <tr>\n",
       "      <th>6839</th>\n",
       "      <td>6840</td>\n",
       "      <td>15768282</td>\n",
       "      <td>Perez</td>\n",
       "      <td>724</td>\n",
       "      <td>Germany</td>\n",
       "      <td>Male</td>\n",
       "      <td>36</td>\n",
       "      <td>NaN</td>\n",
       "      <td>94615.11</td>\n",
       "      <td>2</td>\n",
       "      <td>1</td>\n",
       "      <td>1</td>\n",
       "      <td>10627.21</td>\n",
       "      <td>0</td>\n",
       "    </tr>\n",
       "    <tr>\n",
       "      <th>4883</th>\n",
       "      <td>4884</td>\n",
       "      <td>15593280</td>\n",
       "      <td>Yuryeva</td>\n",
       "      <td>614</td>\n",
       "      <td>Germany</td>\n",
       "      <td>Male</td>\n",
       "      <td>43</td>\n",
       "      <td>NaN</td>\n",
       "      <td>140733.74</td>\n",
       "      <td>1</td>\n",
       "      <td>1</td>\n",
       "      <td>1</td>\n",
       "      <td>166588.76</td>\n",
       "      <td>0</td>\n",
       "    </tr>\n",
       "    <tr>\n",
       "      <th>1151</th>\n",
       "      <td>1152</td>\n",
       "      <td>15752463</td>\n",
       "      <td>Samuel</td>\n",
       "      <td>826</td>\n",
       "      <td>Spain</td>\n",
       "      <td>Female</td>\n",
       "      <td>29</td>\n",
       "      <td>NaN</td>\n",
       "      <td>129938.07</td>\n",
       "      <td>1</td>\n",
       "      <td>0</td>\n",
       "      <td>1</td>\n",
       "      <td>190200.53</td>\n",
       "      <td>0</td>\n",
       "    </tr>\n",
       "    <tr>\n",
       "      <th>6761</th>\n",
       "      <td>6762</td>\n",
       "      <td>15746183</td>\n",
       "      <td>Pye</td>\n",
       "      <td>573</td>\n",
       "      <td>France</td>\n",
       "      <td>Female</td>\n",
       "      <td>27</td>\n",
       "      <td>NaN</td>\n",
       "      <td>0.00</td>\n",
       "      <td>2</td>\n",
       "      <td>1</td>\n",
       "      <td>1</td>\n",
       "      <td>157549.60</td>\n",
       "      <td>0</td>\n",
       "    </tr>\n",
       "    <tr>\n",
       "      <th>6985</th>\n",
       "      <td>6986</td>\n",
       "      <td>15586699</td>\n",
       "      <td>Thomson</td>\n",
       "      <td>825</td>\n",
       "      <td>France</td>\n",
       "      <td>Male</td>\n",
       "      <td>32</td>\n",
       "      <td>NaN</td>\n",
       "      <td>0.00</td>\n",
       "      <td>2</td>\n",
       "      <td>0</td>\n",
       "      <td>0</td>\n",
       "      <td>9751.03</td>\n",
       "      <td>0</td>\n",
       "    </tr>\n",
       "    <tr>\n",
       "      <th>3824</th>\n",
       "      <td>3825</td>\n",
       "      <td>15728167</td>\n",
       "      <td>Abramovich</td>\n",
       "      <td>667</td>\n",
       "      <td>France</td>\n",
       "      <td>Male</td>\n",
       "      <td>44</td>\n",
       "      <td>NaN</td>\n",
       "      <td>122806.95</td>\n",
       "      <td>1</td>\n",
       "      <td>0</td>\n",
       "      <td>0</td>\n",
       "      <td>15120.86</td>\n",
       "      <td>0</td>\n",
       "    </tr>\n",
       "    <tr>\n",
       "      <th>8199</th>\n",
       "      <td>8200</td>\n",
       "      <td>15798532</td>\n",
       "      <td>Crawford</td>\n",
       "      <td>810</td>\n",
       "      <td>France</td>\n",
       "      <td>Male</td>\n",
       "      <td>32</td>\n",
       "      <td>NaN</td>\n",
       "      <td>120879.73</td>\n",
       "      <td>2</td>\n",
       "      <td>0</td>\n",
       "      <td>1</td>\n",
       "      <td>78896.59</td>\n",
       "      <td>0</td>\n",
       "    </tr>\n",
       "  </tbody>\n",
       "</table>\n",
       "</div>"
      ],
      "text/plain": [
       "      row_number  customer_id     surname  credit_score geography  gender  \\\n",
       "846          847     15608968   Averyanov           714   Germany    Male   \n",
       "2786        2787     15585100       Rioux           511   Germany  Female   \n",
       "30            31     15589475     Azikiwe           591     Spain  Female   \n",
       "6839        6840     15768282       Perez           724   Germany    Male   \n",
       "4883        4884     15593280     Yuryeva           614   Germany    Male   \n",
       "1151        1152     15752463      Samuel           826     Spain  Female   \n",
       "6761        6762     15746183         Pye           573    France  Female   \n",
       "6985        6986     15586699     Thomson           825    France    Male   \n",
       "3824        3825     15728167  Abramovich           667    France    Male   \n",
       "8199        8200     15798532    Crawford           810    France    Male   \n",
       "\n",
       "      age  tenure    balance  num_of_products  has_cr_card  is_active_member  \\\n",
       "846    21     NaN   86402.52                2            0                 0   \n",
       "2786   40     NaN  124401.60                1            1                 0   \n",
       "30     39     NaN       0.00                3            1                 0   \n",
       "6839   36     NaN   94615.11                2            1                 1   \n",
       "4883   43     NaN  140733.74                1            1                 1   \n",
       "1151   29     NaN  129938.07                1            0                 1   \n",
       "6761   27     NaN       0.00                2            1                 1   \n",
       "6985   32     NaN       0.00                2            0                 0   \n",
       "3824   44     NaN  122806.95                1            0                 0   \n",
       "8199   32     NaN  120879.73                2            0                 1   \n",
       "\n",
       "      estimated_salary  exited  \n",
       "846           27330.59       0  \n",
       "2786         198814.24       1  \n",
       "30           140469.38       1  \n",
       "6839          10627.21       0  \n",
       "4883         166588.76       0  \n",
       "1151         190200.53       0  \n",
       "6761         157549.60       0  \n",
       "6985           9751.03       0  \n",
       "3824          15120.86       0  \n",
       "8199          78896.59       0  "
      ]
     },
     "execution_count": 279,
     "metadata": {},
     "output_type": "execute_result"
    }
   ],
   "source": [
    "df[df['tenure'].isna()].sample(10)"
   ]
  },
  {
   "cell_type": "markdown",
   "metadata": {},
   "source": [
    "Распределение по переменной баланса фактически близки к дамми переменной, поэтому переделаем ее в такой вид. Хотя из-за этого мы теряем часть данных, но переменная станет лучше обрабатываться моделями:"
   ]
  },
  {
   "cell_type": "code",
   "execution_count": 280,
   "metadata": {},
   "outputs": [],
   "source": [
    "df['balance'] = df['balance']>0\n",
    "df['balance'] = df['balance'].astype('int64')"
   ]
  },
  {
   "cell_type": "markdown",
   "metadata": {},
   "source": [
    "Нет четкой связи пропусков с другими признаками. Заменяем стаж на случайную величину между 0 и 10, так как в целом распределение этого признака близко к равномерному распределению:"
   ]
  },
  {
   "cell_type": "code",
   "execution_count": 281,
   "metadata": {},
   "outputs": [],
   "source": [
    "for i in df[df['tenure'].isna()].index:\n",
    "    df.loc[i,'tenure'] = random.randint(0,10)\n",
    "#df[df['tenure']==np.nan]['tenure'] = df[df['tenure']==np.nan]['tenure'].apply(lambda v: random.choice(df[df['tenure']!=np.nan]['tenure'], random_state=12345, implace=True))\n",
    "\n",
    "#df['tenure'].fillna(lambda x: random.choice(df[df['tenure']!=np.nan]['tenure'], random_state=12345), inplace=True)\n",
    "#df['tenure'] = df['tenure'].fillna(df['tenure'].mean())"
   ]
  },
  {
   "cell_type": "markdown",
   "metadata": {},
   "source": [
    "Анализ категориальных признаков и их перевод в дамми признаки:"
   ]
  },
  {
   "cell_type": "code",
   "execution_count": 282,
   "metadata": {},
   "outputs": [
    {
     "data": {
      "text/plain": [
       "France     5014\n",
       "Germany    2509\n",
       "Spain      2477\n",
       "Name: geography, dtype: int64"
      ]
     },
     "execution_count": 282,
     "metadata": {},
     "output_type": "execute_result"
    }
   ],
   "source": [
    "df['geography'].value_counts()"
   ]
  },
  {
   "cell_type": "code",
   "execution_count": 283,
   "metadata": {},
   "outputs": [
    {
     "data": {
      "text/plain": [
       "Male      5457\n",
       "Female    4543\n",
       "Name: gender, dtype: int64"
      ]
     },
     "execution_count": 283,
     "metadata": {},
     "output_type": "execute_result"
    }
   ],
   "source": [
    "df['gender'].value_counts()"
   ]
  },
  {
   "cell_type": "code",
   "execution_count": 284,
   "metadata": {},
   "outputs": [],
   "source": [
    "df_geography = pd.get_dummies(df['geography'], drop_first=True)\n",
    "df_gender = pd.get_dummies(df['gender'], drop_first=True)\n",
    "df = df.join(df_geography).join(df_gender).drop(['geography', 'gender'], axis=1)\n",
    "df = df.rename(columns={'Germany':'germany', 'Spain':'spain', 'Male':'male'})"
   ]
  },
  {
   "cell_type": "markdown",
   "metadata": {},
   "source": [
    "Удаляем переменные, которые точно не являются предикторами оттока клиентов (индекс, уникальный номер клиента, его фамилия):"
   ]
  },
  {
   "cell_type": "code",
   "execution_count": 285,
   "metadata": {},
   "outputs": [],
   "source": [
    "df = df.drop(['row_number', 'customer_id', 'surname'], axis=1)"
   ]
  },
  {
   "cell_type": "markdown",
   "metadata": {},
   "source": [
    "Обзор данных после всех изменений:"
   ]
  },
  {
   "cell_type": "code",
   "execution_count": 286,
   "metadata": {},
   "outputs": [
    {
     "name": "stdout",
     "output_type": "stream",
     "text": [
      "<class 'pandas.core.frame.DataFrame'>\n",
      "RangeIndex: 10000 entries, 0 to 9999\n",
      "Data columns (total 12 columns):\n",
      " #   Column            Non-Null Count  Dtype  \n",
      "---  ------            --------------  -----  \n",
      " 0   credit_score      10000 non-null  int64  \n",
      " 1   age               10000 non-null  int64  \n",
      " 2   tenure            10000 non-null  float64\n",
      " 3   balance           10000 non-null  int64  \n",
      " 4   num_of_products   10000 non-null  int64  \n",
      " 5   has_cr_card       10000 non-null  int64  \n",
      " 6   is_active_member  10000 non-null  int64  \n",
      " 7   estimated_salary  10000 non-null  float64\n",
      " 8   exited            10000 non-null  int64  \n",
      " 9   germany           10000 non-null  uint8  \n",
      " 10  spain             10000 non-null  uint8  \n",
      " 11  male              10000 non-null  uint8  \n",
      "dtypes: float64(2), int64(7), uint8(3)\n",
      "memory usage: 732.5 KB\n"
     ]
    }
   ],
   "source": [
    "df.info()"
   ]
  },
  {
   "cell_type": "code",
   "execution_count": 287,
   "metadata": {},
   "outputs": [
    {
     "data": {
      "text/html": [
       "<div>\n",
       "<style scoped>\n",
       "    .dataframe tbody tr th:only-of-type {\n",
       "        vertical-align: middle;\n",
       "    }\n",
       "\n",
       "    .dataframe tbody tr th {\n",
       "        vertical-align: top;\n",
       "    }\n",
       "\n",
       "    .dataframe thead th {\n",
       "        text-align: right;\n",
       "    }\n",
       "</style>\n",
       "<table border=\"1\" class=\"dataframe\">\n",
       "  <thead>\n",
       "    <tr style=\"text-align: right;\">\n",
       "      <th></th>\n",
       "      <th>credit_score</th>\n",
       "      <th>age</th>\n",
       "      <th>tenure</th>\n",
       "      <th>balance</th>\n",
       "      <th>num_of_products</th>\n",
       "      <th>has_cr_card</th>\n",
       "      <th>is_active_member</th>\n",
       "      <th>estimated_salary</th>\n",
       "      <th>exited</th>\n",
       "      <th>germany</th>\n",
       "      <th>spain</th>\n",
       "      <th>male</th>\n",
       "    </tr>\n",
       "  </thead>\n",
       "  <tbody>\n",
       "    <tr>\n",
       "      <th>9909</th>\n",
       "      <td>739</td>\n",
       "      <td>58</td>\n",
       "      <td>2.0</td>\n",
       "      <td>1</td>\n",
       "      <td>1</td>\n",
       "      <td>1</td>\n",
       "      <td>1</td>\n",
       "      <td>72168.53</td>\n",
       "      <td>0</td>\n",
       "      <td>0</td>\n",
       "      <td>0</td>\n",
       "      <td>1</td>\n",
       "    </tr>\n",
       "    <tr>\n",
       "      <th>8944</th>\n",
       "      <td>551</td>\n",
       "      <td>49</td>\n",
       "      <td>1.0</td>\n",
       "      <td>1</td>\n",
       "      <td>2</td>\n",
       "      <td>1</td>\n",
       "      <td>1</td>\n",
       "      <td>135757.27</td>\n",
       "      <td>0</td>\n",
       "      <td>0</td>\n",
       "      <td>1</td>\n",
       "      <td>1</td>\n",
       "    </tr>\n",
       "    <tr>\n",
       "      <th>8921</th>\n",
       "      <td>472</td>\n",
       "      <td>37</td>\n",
       "      <td>1.0</td>\n",
       "      <td>0</td>\n",
       "      <td>2</td>\n",
       "      <td>1</td>\n",
       "      <td>1</td>\n",
       "      <td>48357.90</td>\n",
       "      <td>0</td>\n",
       "      <td>0</td>\n",
       "      <td>0</td>\n",
       "      <td>0</td>\n",
       "    </tr>\n",
       "    <tr>\n",
       "      <th>7391</th>\n",
       "      <td>430</td>\n",
       "      <td>31</td>\n",
       "      <td>5.0</td>\n",
       "      <td>0</td>\n",
       "      <td>1</td>\n",
       "      <td>1</td>\n",
       "      <td>0</td>\n",
       "      <td>95655.16</td>\n",
       "      <td>0</td>\n",
       "      <td>0</td>\n",
       "      <td>0</td>\n",
       "      <td>1</td>\n",
       "    </tr>\n",
       "    <tr>\n",
       "      <th>1319</th>\n",
       "      <td>756</td>\n",
       "      <td>41</td>\n",
       "      <td>2.0</td>\n",
       "      <td>1</td>\n",
       "      <td>2</td>\n",
       "      <td>0</td>\n",
       "      <td>1</td>\n",
       "      <td>47093.11</td>\n",
       "      <td>0</td>\n",
       "      <td>1</td>\n",
       "      <td>0</td>\n",
       "      <td>1</td>\n",
       "    </tr>\n",
       "    <tr>\n",
       "      <th>1118</th>\n",
       "      <td>617</td>\n",
       "      <td>61</td>\n",
       "      <td>7.0</td>\n",
       "      <td>1</td>\n",
       "      <td>1</td>\n",
       "      <td>1</td>\n",
       "      <td>1</td>\n",
       "      <td>101839.77</td>\n",
       "      <td>0</td>\n",
       "      <td>0</td>\n",
       "      <td>1</td>\n",
       "      <td>1</td>\n",
       "    </tr>\n",
       "    <tr>\n",
       "      <th>6377</th>\n",
       "      <td>692</td>\n",
       "      <td>33</td>\n",
       "      <td>9.0</td>\n",
       "      <td>0</td>\n",
       "      <td>1</td>\n",
       "      <td>1</td>\n",
       "      <td>0</td>\n",
       "      <td>113505.93</td>\n",
       "      <td>1</td>\n",
       "      <td>0</td>\n",
       "      <td>0</td>\n",
       "      <td>1</td>\n",
       "    </tr>\n",
       "    <tr>\n",
       "      <th>2160</th>\n",
       "      <td>727</td>\n",
       "      <td>28</td>\n",
       "      <td>5.0</td>\n",
       "      <td>0</td>\n",
       "      <td>2</td>\n",
       "      <td>0</td>\n",
       "      <td>1</td>\n",
       "      <td>19653.08</td>\n",
       "      <td>0</td>\n",
       "      <td>0</td>\n",
       "      <td>0</td>\n",
       "      <td>1</td>\n",
       "    </tr>\n",
       "    <tr>\n",
       "      <th>5124</th>\n",
       "      <td>721</td>\n",
       "      <td>46</td>\n",
       "      <td>7.0</td>\n",
       "      <td>1</td>\n",
       "      <td>1</td>\n",
       "      <td>1</td>\n",
       "      <td>1</td>\n",
       "      <td>67976.57</td>\n",
       "      <td>0</td>\n",
       "      <td>0</td>\n",
       "      <td>1</td>\n",
       "      <td>0</td>\n",
       "    </tr>\n",
       "    <tr>\n",
       "      <th>4927</th>\n",
       "      <td>641</td>\n",
       "      <td>40</td>\n",
       "      <td>9.0</td>\n",
       "      <td>0</td>\n",
       "      <td>1</td>\n",
       "      <td>0</td>\n",
       "      <td>0</td>\n",
       "      <td>151648.66</td>\n",
       "      <td>1</td>\n",
       "      <td>0</td>\n",
       "      <td>0</td>\n",
       "      <td>0</td>\n",
       "    </tr>\n",
       "  </tbody>\n",
       "</table>\n",
       "</div>"
      ],
      "text/plain": [
       "      credit_score  age  tenure  balance  num_of_products  has_cr_card  \\\n",
       "9909           739   58     2.0        1                1            1   \n",
       "8944           551   49     1.0        1                2            1   \n",
       "8921           472   37     1.0        0                2            1   \n",
       "7391           430   31     5.0        0                1            1   \n",
       "1319           756   41     2.0        1                2            0   \n",
       "1118           617   61     7.0        1                1            1   \n",
       "6377           692   33     9.0        0                1            1   \n",
       "2160           727   28     5.0        0                2            0   \n",
       "5124           721   46     7.0        1                1            1   \n",
       "4927           641   40     9.0        0                1            0   \n",
       "\n",
       "      is_active_member  estimated_salary  exited  germany  spain  male  \n",
       "9909                 1          72168.53       0        0      0     1  \n",
       "8944                 1         135757.27       0        0      1     1  \n",
       "8921                 1          48357.90       0        0      0     0  \n",
       "7391                 0          95655.16       0        0      0     1  \n",
       "1319                 1          47093.11       0        1      0     1  \n",
       "1118                 1         101839.77       0        0      1     1  \n",
       "6377                 0         113505.93       1        0      0     1  \n",
       "2160                 1          19653.08       0        0      0     1  \n",
       "5124                 1          67976.57       0        0      1     0  \n",
       "4927                 0         151648.66       1        0      0     0  "
      ]
     },
     "execution_count": 287,
     "metadata": {},
     "output_type": "execute_result"
    }
   ],
   "source": [
    "df.sample(10)"
   ]
  },
  {
   "cell_type": "markdown",
   "metadata": {},
   "source": [
    "Готовим отдельные подвыборки для дальнейшего исследования:"
   ]
  },
  {
   "cell_type": "code",
   "execution_count": 288,
   "metadata": {},
   "outputs": [],
   "source": [
    "features = df.drop('exited', axis=1)\n",
    "target = df['exited']"
   ]
  },
  {
   "cell_type": "code",
   "execution_count": 289,
   "metadata": {},
   "outputs": [],
   "source": [
    "features_train_valid, features_tested, target_train_valid, target_tested = train_test_split(features, target, test_size=0.2, random_state=12345)\n",
    "features_train, features_valid, target_train, target_valid = train_test_split(features_train_valid, target_train_valid, test_size=0.25, random_state=12345)\n"
   ]
  },
  {
   "cell_type": "markdown",
   "metadata": {},
   "source": [
    "Масштабируем количественные признаки:"
   ]
  },
  {
   "cell_type": "code",
   "execution_count": 290,
   "metadata": {
    "scrolled": false
   },
   "outputs": [
    {
     "name": "stderr",
     "output_type": "stream",
     "text": [
      "/tmp/ipykernel_31/58098474.py:4: SettingWithCopyWarning: \n",
      "A value is trying to be set on a copy of a slice from a DataFrame.\n",
      "Try using .loc[row_indexer,col_indexer] = value instead\n",
      "\n",
      "See the caveats in the documentation: https://pandas.pydata.org/pandas-docs/stable/user_guide/indexing.html#returning-a-view-versus-a-copy\n",
      "  features_train[num_list2] = scaler.transform(features_train[num_list2])\n",
      "/opt/conda/lib/python3.9/site-packages/pandas/core/indexing.py:1738: SettingWithCopyWarning: \n",
      "A value is trying to be set on a copy of a slice from a DataFrame.\n",
      "Try using .loc[row_indexer,col_indexer] = value instead\n",
      "\n",
      "See the caveats in the documentation: https://pandas.pydata.org/pandas-docs/stable/user_guide/indexing.html#returning-a-view-versus-a-copy\n",
      "  self._setitem_single_column(loc, value[:, i].tolist(), pi)\n",
      "/tmp/ipykernel_31/58098474.py:5: SettingWithCopyWarning: \n",
      "A value is trying to be set on a copy of a slice from a DataFrame.\n",
      "Try using .loc[row_indexer,col_indexer] = value instead\n",
      "\n",
      "See the caveats in the documentation: https://pandas.pydata.org/pandas-docs/stable/user_guide/indexing.html#returning-a-view-versus-a-copy\n",
      "  features_valid[num_list2] = scaler.transform(features_valid[num_list2])\n",
      "/opt/conda/lib/python3.9/site-packages/pandas/core/indexing.py:1738: SettingWithCopyWarning: \n",
      "A value is trying to be set on a copy of a slice from a DataFrame.\n",
      "Try using .loc[row_indexer,col_indexer] = value instead\n",
      "\n",
      "See the caveats in the documentation: https://pandas.pydata.org/pandas-docs/stable/user_guide/indexing.html#returning-a-view-versus-a-copy\n",
      "  self._setitem_single_column(loc, value[:, i].tolist(), pi)\n",
      "/tmp/ipykernel_31/58098474.py:6: SettingWithCopyWarning: \n",
      "A value is trying to be set on a copy of a slice from a DataFrame.\n",
      "Try using .loc[row_indexer,col_indexer] = value instead\n",
      "\n",
      "See the caveats in the documentation: https://pandas.pydata.org/pandas-docs/stable/user_guide/indexing.html#returning-a-view-versus-a-copy\n",
      "  features_tested[num_list2] = scaler.transform(features_tested[num_list2])\n",
      "/opt/conda/lib/python3.9/site-packages/pandas/core/indexing.py:1738: SettingWithCopyWarning: \n",
      "A value is trying to be set on a copy of a slice from a DataFrame.\n",
      "Try using .loc[row_indexer,col_indexer] = value instead\n",
      "\n",
      "See the caveats in the documentation: https://pandas.pydata.org/pandas-docs/stable/user_guide/indexing.html#returning-a-view-versus-a-copy\n",
      "  self._setitem_single_column(loc, value[:, i].tolist(), pi)\n",
      "/tmp/ipykernel_31/58098474.py:7: SettingWithCopyWarning: \n",
      "A value is trying to be set on a copy of a slice from a DataFrame.\n",
      "Try using .loc[row_indexer,col_indexer] = value instead\n",
      "\n",
      "See the caveats in the documentation: https://pandas.pydata.org/pandas-docs/stable/user_guide/indexing.html#returning-a-view-versus-a-copy\n",
      "  features_train_valid[num_list2] = scaler.transform(features_train_valid[num_list2])\n",
      "/opt/conda/lib/python3.9/site-packages/pandas/core/indexing.py:1738: SettingWithCopyWarning: \n",
      "A value is trying to be set on a copy of a slice from a DataFrame.\n",
      "Try using .loc[row_indexer,col_indexer] = value instead\n",
      "\n",
      "See the caveats in the documentation: https://pandas.pydata.org/pandas-docs/stable/user_guide/indexing.html#returning-a-view-versus-a-copy\n",
      "  self._setitem_single_column(loc, value[:, i].tolist(), pi)\n"
     ]
    },
    {
     "data": {
      "text/plain": [
       "array([[<AxesSubplot:title={'center':'credit_score'}>,\n",
       "        <AxesSubplot:title={'center':'age'}>],\n",
       "       [<AxesSubplot:title={'center':'tenure'}>,\n",
       "        <AxesSubplot:title={'center':'estimated_salary'}>]], dtype=object)"
      ]
     },
     "execution_count": 290,
     "metadata": {},
     "output_type": "execute_result"
    },
    {
     "data": {
      "image/png": "[encoded data removed]",
      "text/plain": [
       "<Figure size 1080x1080 with 4 Axes>"
      ]
     },
     "metadata": {
      "needs_background": "light"
     },
     "output_type": "display_data"
    }
   ],
   "source": [
    "scaler = StandardScaler()\n",
    "num_list2 = ['credit_score', 'age', 'tenure', 'estimated_salary']\n",
    "scaler.fit(features_train[num_list2])\n",
    "features_train[num_list2] = scaler.transform(features_train[num_list2])\n",
    "features_valid[num_list2] = scaler.transform(features_valid[num_list2])\n",
    "features_tested[num_list2] = scaler.transform(features_tested[num_list2])\n",
    "features_train_valid[num_list2] = scaler.transform(features_train_valid[num_list2])\n",
    "features_train[num_list2].hist(figsize=(15,15))"
   ]
  },
  {
   "cell_type": "markdown",
   "metadata": {},
   "source": [
    "**Выводы:** Преобразовали данные, подготовили подвыборки."
   ]
  },
  {
   "cell_type": "markdown",
   "metadata": {},
   "source": [
    "## Исследование задачи"
   ]
  },
  {
   "cell_type": "markdown",
   "metadata": {},
   "source": [
    "Выборка несбалансирована, только около 20% всех объектов отражают факт ухода из банка, в 80% индивиды остаются. Тем не менее, на первом этапе исследования будем предсказывать на основании несбалансированной выборки, используя два метода (логистическая регрессия и случайный лес):"
   ]
  },
  {
   "cell_type": "markdown",
   "metadata": {},
   "source": [
    "Логистическая регрессия:"
   ]
  },
  {
   "cell_type": "code",
   "execution_count": 291,
   "metadata": {},
   "outputs": [],
   "source": [
    "model_disbal_lr = LogisticRegression(random_state=12345, solver='liblinear')\n",
    "model_disbal_lr.fit(features_train, target_train)\n",
    "predictions_disbal_lr = model_disbal_lr.predict(features_valid)"
   ]
  },
  {
   "cell_type": "code",
   "execution_count": 292,
   "metadata": {},
   "outputs": [
    {
     "name": "stdout",
     "output_type": "stream",
     "text": [
      "0.31086142322097376\n",
      "0.7727965615408214\n"
     ]
    }
   ],
   "source": [
    "print(f1_score(target_valid, predictions_disbal_lr))\n",
    "probabilities_valid = model_disbal_lr.predict_proba(features_valid)\n",
    "probabilities_one_valid = probabilities_valid[:, 1]\n",
    "print(roc_auc_score(target_valid, probabilities_one_valid))"
   ]
  },
  {
   "cell_type": "markdown",
   "metadata": {},
   "source": [
    "Случайный лес (с подборкой различных гиперпараметров через GridSearchCV):"
   ]
  },
  {
   "cell_type": "code",
   "execution_count": 293,
   "metadata": {},
   "outputs": [],
   "source": [
    "parametrs = {'n_estimators': range (30, 81, 10), 'max_depth': range (5, 26, 5)}"
   ]
  },
  {
   "cell_type": "code",
   "execution_count": 294,
   "metadata": {},
   "outputs": [
    {
     "data": {
      "text/plain": [
       "{'max_depth': 25, 'n_estimators': 50}"
      ]
     },
     "execution_count": 294,
     "metadata": {},
     "output_type": "execute_result"
    }
   ],
   "source": [
    "model_disbal_forest = RandomForestClassifier(random_state=12345)\n",
    "grid_disbal_forest = GridSearchCV(model_disbal_forest, parametrs, scoring='f1')\n",
    "grid_disbal_forest.fit(features_train_valid, target_train_valid)\n",
    "grid_disbal_forest.best_params_"
   ]
  },
  {
   "cell_type": "code",
   "execution_count": 295,
   "metadata": {},
   "outputs": [],
   "source": [
    "model_disbal_forest = RandomForestClassifier(\n",
    "    max_depth=grid_disbal_forest.best_params_['max_depth'], \n",
    "    n_estimators=grid_disbal_forest.best_params_['n_estimators'], \n",
    "    random_state=12345)\n",
    "model_disbal_forest.fit(features_train, target_train)\n",
    "predictions_disbal_forest = model_disbal_forest.predict(features_valid)"
   ]
  },
  {
   "cell_type": "code",
   "execution_count": 296,
   "metadata": {},
   "outputs": [
    {
     "name": "stdout",
     "output_type": "stream",
     "text": [
      "0.5478119935170178\n",
      "0.8295521197102615\n"
     ]
    }
   ],
   "source": [
    "print(f1_score(target_valid, predictions_disbal_forest))\n",
    "probabilities_valid = model_disbal_forest.predict_proba(features_valid)\n",
    "probabilities_one_valid = probabilities_valid[:, 1]\n",
    "print(roc_auc_score(target_valid, probabilities_one_valid))"
   ]
  },
  {
   "cell_type": "markdown",
   "metadata": {},
   "source": [
    "**Выводы:** Оценка метрик ниже требуемого для выполнения задания, что в том числе связано с несбалансированностью данных. AUC-ROC при этом относительно высока."
   ]
  },
  {
   "cell_type": "markdown",
   "metadata": {},
   "source": [
    "## Борьба с дисбалансом"
   ]
  },
  {
   "cell_type": "markdown",
   "metadata": {},
   "source": [
    "Используем несколько методов борьбы: взвешивание выборки, увеличение выборки (размер выборки не столь большой, чтобы эффективно использовать методы ее уменьшения): "
   ]
  },
  {
   "cell_type": "markdown",
   "metadata": {},
   "source": [
    "### Взвешивание выборки\n",
    "#### Логистическая регрессия"
   ]
  },
  {
   "cell_type": "code",
   "execution_count": 297,
   "metadata": {},
   "outputs": [],
   "source": [
    "model_weighted_lr = LogisticRegression(random_state=12345, solver='liblinear', class_weight='balanced')\n",
    "model_weighted_lr.fit(features_train, target_train)\n",
    "predictions_weighted_lr = model_weighted_lr.predict(features_valid)"
   ]
  },
  {
   "cell_type": "code",
   "execution_count": 298,
   "metadata": {},
   "outputs": [
    {
     "name": "stdout",
     "output_type": "stream",
     "text": [
      "0.47864768683274017\n",
      "0.7752031014800062\n"
     ]
    }
   ],
   "source": [
    "print(f1_score(target_valid, predictions_weighted_lr))\n",
    "probabilities_valid = model_weighted_lr.predict_proba(features_valid)\n",
    "probabilities_one_valid = probabilities_valid[:, 1]\n",
    "print(roc_auc_score(target_valid, probabilities_one_valid))"
   ]
  },
  {
   "cell_type": "markdown",
   "metadata": {},
   "source": [
    "Взвешивение значительно увеличило показатель f1 для логистической регрессии, но он все равно ниже, чем при использовании модели случайного леса."
   ]
  },
  {
   "cell_type": "markdown",
   "metadata": {},
   "source": [
    "#### Случайный лес"
   ]
  },
  {
   "cell_type": "code",
   "execution_count": 299,
   "metadata": {},
   "outputs": [
    {
     "data": {
      "text/plain": [
       "{'max_depth': 25, 'n_estimators': 80}"
      ]
     },
     "execution_count": 299,
     "metadata": {},
     "output_type": "execute_result"
    }
   ],
   "source": [
    "model_weighted_forest = RandomForestClassifier(random_state=12345, class_weight='balanced')\n",
    "grid_weighted_forest = GridSearchCV(model_weighted_forest, parametrs)\n",
    "grid_weighted_forest.fit(features_train_valid, target_train_valid)\n",
    "grid_weighted_forest.best_params_"
   ]
  },
  {
   "cell_type": "code",
   "execution_count": 300,
   "metadata": {},
   "outputs": [],
   "source": [
    "model_weighted_forest = RandomForestClassifier(\n",
    "    max_depth=grid_weighted_forest.best_params_['max_depth'], \n",
    "    n_estimators=grid_weighted_forest.best_params_['n_estimators'],\n",
    "    class_weight='balanced',\n",
    "    random_state=12345)\n",
    "model_weighted_forest.fit(features_train, target_train)\n",
    "predictions_weighted_forest = model_weighted_forest.predict(features_valid)"
   ]
  },
  {
   "cell_type": "code",
   "execution_count": 301,
   "metadata": {},
   "outputs": [
    {
     "name": "stdout",
     "output_type": "stream",
     "text": [
      "0.543089430894309\n",
      "0.8357369591444546\n"
     ]
    }
   ],
   "source": [
    "print(f1_score(target_valid, predictions_weighted_forest))\n",
    "probabilities_valid = model_weighted_forest.predict_proba(features_valid)\n",
    "probabilities_one_valid = probabilities_valid[:, 1]\n",
    "print(roc_auc_score(target_valid, probabilities_one_valid))"
   ]
  },
  {
   "cell_type": "markdown",
   "metadata": {},
   "source": [
    "Взвешивание не изменило качество модели случайного леса. Все метрики остались практически неизменными."
   ]
  },
  {
   "cell_type": "markdown",
   "metadata": {},
   "source": [
    "### Увеличение выборки"
   ]
  },
  {
   "cell_type": "markdown",
   "metadata": {},
   "source": [
    "Созданием функцию upsampling:"
   ]
  },
  {
   "cell_type": "code",
   "execution_count": 302,
   "metadata": {},
   "outputs": [],
   "source": [
    "def upsample(features, target, repeat):\n",
    "    features_zeros = features[target == 0]\n",
    "    features_ones = features[target == 1]\n",
    "    target_zeros = target[target == 0]\n",
    "    target_ones = target[target == 1]\n",
    "\n",
    "    features_upsampled = pd.concat([features_zeros] + [features_ones] * repeat)\n",
    "    target_upsampled = pd.concat([target_zeros] + [target_ones] * repeat)\n",
    "    \n",
    "    features_upsampled, target_upsampled = shuffle(\n",
    "        features_upsampled, target_upsampled, random_state=12345)\n",
    "    \n",
    "    return features_upsampled, target_upsampled"
   ]
  },
  {
   "cell_type": "markdown",
   "metadata": {},
   "source": [
    "#### Логистическая регрессия"
   ]
  },
  {
   "cell_type": "code",
   "execution_count": 303,
   "metadata": {},
   "outputs": [],
   "source": [
    "features_upsampled, target_upsampled = upsample(features_train, target_train, 4)"
   ]
  },
  {
   "cell_type": "code",
   "execution_count": 304,
   "metadata": {},
   "outputs": [],
   "source": [
    "model_upsampled_lr = LogisticRegression(random_state=12345, solver='liblinear')\n",
    "model_upsampled_lr.fit(features_upsampled, target_upsampled)\n",
    "predictions_upsampled_lr = model_upsampled_lr.predict(features_valid)"
   ]
  },
  {
   "cell_type": "code",
   "execution_count": 305,
   "metadata": {},
   "outputs": [
    {
     "name": "stdout",
     "output_type": "stream",
     "text": [
      "0.4784520668425682\n",
      "0.775238071016771\n"
     ]
    }
   ],
   "source": [
    "print(f1_score(target_valid, predictions_upsampled_lr))\n",
    "probabilities_valid = model_upsampled_lr.predict_proba(features_valid)\n",
    "probabilities_one_valid = probabilities_valid[:, 1]\n",
    "print(roc_auc_score(target_valid, probabilities_one_valid))"
   ]
  },
  {
   "cell_type": "markdown",
   "metadata": {},
   "source": [
    "Увеличеие размера выборки также позвитивно влияет на метрику f1, как и при взвешивании."
   ]
  },
  {
   "cell_type": "markdown",
   "metadata": {},
   "source": [
    "#### Случайный лес"
   ]
  },
  {
   "cell_type": "code",
   "execution_count": 306,
   "metadata": {},
   "outputs": [],
   "source": [
    "features_upsampled, target_upsampled = upsample(features_train_valid, target_train_valid, 4)"
   ]
  },
  {
   "cell_type": "code",
   "execution_count": 307,
   "metadata": {},
   "outputs": [
    {
     "data": {
      "text/plain": [
       "{'max_depth': 25, 'n_estimators': 70}"
      ]
     },
     "execution_count": 307,
     "metadata": {},
     "output_type": "execute_result"
    }
   ],
   "source": [
    "model_upsampled_forest = RandomForestClassifier(random_state=12345)\n",
    "grid_upsampled_forest = GridSearchCV(model_upsampled_forest, parametrs, scoring='f1')\n",
    "grid_upsampled_forest.fit(features_upsampled, target_upsampled)\n",
    "grid_upsampled_forest.best_params_"
   ]
  },
  {
   "cell_type": "code",
   "execution_count": 308,
   "metadata": {},
   "outputs": [],
   "source": [
    "features_upsampled, target_upsampled = upsample(features_train, target_train, 4)\n",
    "features_upsampled_val, target_upsampled_val = upsample(features_valid, target_valid, 4)"
   ]
  },
  {
   "cell_type": "code",
   "execution_count": 309,
   "metadata": {},
   "outputs": [],
   "source": [
    "model_upsampled_forest = RandomForestClassifier(\n",
    "    max_depth=grid_upsampled_forest.best_params_['max_depth'], \n",
    "    n_estimators=grid_upsampled_forest.best_params_['n_estimators'],\n",
    "    random_state=12345)\n",
    "model_upsampled_forest.fit(features_upsampled, target_upsampled)\n",
    "predictions_upsampled_forest = model_upsampled_forest.predict(features_upsampled_val)"
   ]
  },
  {
   "cell_type": "code",
   "execution_count": 310,
   "metadata": {},
   "outputs": [
    {
     "name": "stdout",
     "output_type": "stream",
     "text": [
      "0.6412825651302605\n",
      "0.8218755116281657\n"
     ]
    }
   ],
   "source": [
    "print(f1_score(target_upsampled_val, predictions_upsampled_forest))\n",
    "probabilities_valid = model_upsampled_forest.predict_proba(features_upsampled_val)\n",
    "probabilities_one_valid = probabilities_valid[:, 1]\n",
    "print(roc_auc_score(target_upsampled_val, probabilities_one_valid))"
   ]
  },
  {
   "cell_type": "markdown",
   "metadata": {},
   "source": [
    "В отличие от взвешивания, увеличение выборки позволило увеличить f1 выше 0,59. Показатель AUC-ROC остается неизменным."
   ]
  },
  {
   "cell_type": "markdown",
   "metadata": {},
   "source": [
    "## Тестирование модели"
   ]
  },
  {
   "cell_type": "markdown",
   "metadata": {},
   "source": [
    "Тестируем лучшую модель (случайный лес с увеличением выборки, максимальной глубиной 25 и количеством деревьев 80) на тестовых данных:"
   ]
  },
  {
   "cell_type": "code",
   "execution_count": 311,
   "metadata": {},
   "outputs": [],
   "source": [
    "predictions_upsampled_forest = model_upsampled_forest.predict(features_tested)"
   ]
  },
  {
   "cell_type": "code",
   "execution_count": 312,
   "metadata": {},
   "outputs": [
    {
     "name": "stdout",
     "output_type": "stream",
     "text": [
      "0.5912596401028277\n",
      "0.8375923629276834\n"
     ]
    }
   ],
   "source": [
    "print(f1_score(target_tested, predictions_upsampled_forest))\n",
    "probabilities_tested = model_upsampled_forest.predict_proba(features_tested)\n",
    "probabilities_one_tested = probabilities_tested[:, 1]\n",
    "print(roc_auc_score(target_tested, probabilities_one_tested))"
   ]
  },
  {
   "cell_type": "markdown",
   "metadata": {},
   "source": [
    "**Выводы:** Метрики модели ухудшились, что говорит о некотором переобучении модели. Тем не менее, f1 выше 0,59. Значение AUC-ROC на уровне 0,73 показывает, что используемая модель лучше случайной модели."
   ]
  },
  {
   "cell_type": "code",
   "execution_count": 321,
   "metadata": {},
   "outputs": [
    {
     "data": {
      "image/png": "[encoded data removed]",
      "text/plain": [
       "<Figure size 432x288 with 1 Axes>"
      ]
     },
     "metadata": {
      "needs_background": "light"
     },
     "output_type": "display_data"
    }
   ],
   "source": [
    "importances = model_upsampled_forest.feature_importances_\n",
    "std = np.std([tree.feature_importances_ for tree in model_upsampled_forest.estimators_], axis=0)\n",
    "\n",
    "forest_importances = pd.Series(importances, index=features_train.columns)\n",
    "\n",
    "fig, ax = plt.subplots()\n",
    "forest_importances.plot.bar(yerr=std, ax=ax)\n",
    "ax.set_title(\"Важность признаков при прогнозе\")\n",
    "fig.tight_layout()"
   ]
  },
  {
   "cell_type": "markdown",
   "metadata": {},
   "source": [
    "## Чек-лист готовности проекта"
   ]
  },
  {
   "cell_type": "markdown",
   "metadata": {},
   "source": [
    "Поставьте 'x' в выполненных пунктах. Далее нажмите Shift+Enter."
   ]
  },
  {
   "cell_type": "markdown",
   "metadata": {},
   "source": [
    "- [x]  Jupyter Notebook открыт\n",
    "- [x]  Весь код выполняется без ошибок\n",
    "- [x]  Ячейки с кодом расположены в порядке исполнения\n",
    "- [x]  Выполнен шаг 1: данные подготовлены\n",
    "- [x]  Выполнен шаг 2: задача исследована\n",
    "    - [x]  Исследован баланс классов\n",
    "    - [x]  Изучены модели без учёта дисбаланса\n",
    "    - [x]  Написаны выводы по результатам исследования\n",
    "- [x]  Выполнен шаг 3: учтён дисбаланс\n",
    "    - [x]  Применено несколько способов борьбы с дисбалансом\n",
    "    - [x]  Написаны выводы по результатам исследования\n",
    "- [x]  Выполнен шаг 4: проведено тестирование\n",
    "- [x]  Удалось достичь *F1*-меры не менее 0.59\n",
    "- [x]  Исследована метрика *AUC-ROC*"
   ]
  }
 ],
 "metadata": {
  "ExecuteTimeLog": [
   {
    "duration": 1125,
    "start_time": "2022-08-16T13:50:20.561Z"
   },
   {
    "duration": 80,
    "start_time": "2022-08-16T13:50:24.157Z"
   },
   {
    "duration": 90,
    "start_time": "2022-08-16T13:50:31.990Z"
   },
   {
    "duration": 12,
    "start_time": "2022-08-16T13:50:35.451Z"
   },
   {
    "duration": 17,
    "start_time": "2022-08-16T13:50:50.419Z"
   },
   {
    "duration": 5,
    "start_time": "2022-08-16T13:54:42.698Z"
   },
   {
    "duration": 10,
    "start_time": "2022-08-16T13:55:04.632Z"
   },
   {
    "duration": 4,
    "start_time": "2022-08-16T13:55:30.580Z"
   },
   {
    "duration": 4,
    "start_time": "2022-08-16T13:58:33.202Z"
   },
   {
    "duration": 4,
    "start_time": "2022-08-16T13:58:51.821Z"
   },
   {
    "duration": 15,
    "start_time": "2022-08-16T13:58:56.978Z"
   },
   {
    "duration": 10,
    "start_time": "2022-08-16T13:59:23.810Z"
   },
   {
    "duration": 8,
    "start_time": "2022-08-16T14:00:19.055Z"
   },
   {
    "duration": 8,
    "start_time": "2022-08-16T14:00:26.632Z"
   },
   {
    "duration": 167,
    "start_time": "2022-08-16T14:01:12.190Z"
   },
   {
    "duration": 72,
    "start_time": "2022-08-16T14:03:11.223Z"
   },
   {
    "duration": 265,
    "start_time": "2022-08-16T14:03:39.479Z"
   },
   {
    "duration": 255,
    "start_time": "2022-08-16T14:04:19.928Z"
   },
   {
    "duration": 34,
    "start_time": "2022-08-16T14:06:42.957Z"
   },
   {
    "duration": 724,
    "start_time": "2022-08-16T14:07:05.950Z"
   },
   {
    "duration": 792,
    "start_time": "2022-08-16T14:07:20.613Z"
   },
   {
    "duration": 939,
    "start_time": "2022-08-16T14:07:48.689Z"
   },
   {
    "duration": 1129,
    "start_time": "2022-08-16T14:07:58.320Z"
   },
   {
    "duration": 6,
    "start_time": "2022-08-16T14:09:43.997Z"
   },
   {
    "duration": 7,
    "start_time": "2022-08-16T14:10:17.844Z"
   },
   {
    "duration": 5,
    "start_time": "2022-08-16T14:14:17.164Z"
   },
   {
    "duration": 12,
    "start_time": "2022-08-16T14:14:24.928Z"
   },
   {
    "duration": 1043,
    "start_time": "2022-08-16T14:14:36.317Z"
   },
   {
    "duration": 7,
    "start_time": "2022-08-16T14:15:25.441Z"
   },
   {
    "duration": 3,
    "start_time": "2022-08-16T14:15:32.385Z"
   },
   {
    "duration": 48,
    "start_time": "2022-08-16T14:15:32.390Z"
   },
   {
    "duration": 12,
    "start_time": "2022-08-16T14:15:32.440Z"
   },
   {
    "duration": 14,
    "start_time": "2022-08-16T14:15:32.453Z"
   },
   {
    "duration": 15,
    "start_time": "2022-08-16T14:15:32.469Z"
   },
   {
    "duration": 32,
    "start_time": "2022-08-16T14:15:32.486Z"
   },
   {
    "duration": 1157,
    "start_time": "2022-08-16T14:15:32.519Z"
   },
   {
    "duration": 7,
    "start_time": "2022-08-16T14:15:38.476Z"
   },
   {
    "duration": 21,
    "start_time": "2022-08-16T14:16:41.588Z"
   },
   {
    "duration": 14,
    "start_time": "2022-08-16T14:16:48.673Z"
   },
   {
    "duration": 10,
    "start_time": "2022-08-16T14:29:21.871Z"
   },
   {
    "duration": 7,
    "start_time": "2022-08-16T14:31:18.799Z"
   },
   {
    "duration": 14,
    "start_time": "2022-08-16T14:31:26.413Z"
   },
   {
    "duration": 3,
    "start_time": "2022-08-16T14:33:52.353Z"
   },
   {
    "duration": 44,
    "start_time": "2022-08-16T14:33:52.358Z"
   },
   {
    "duration": 12,
    "start_time": "2022-08-16T14:33:52.404Z"
   },
   {
    "duration": 14,
    "start_time": "2022-08-16T14:33:52.418Z"
   },
   {
    "duration": 14,
    "start_time": "2022-08-16T14:33:52.434Z"
   },
   {
    "duration": 41,
    "start_time": "2022-08-16T14:33:52.450Z"
   },
   {
    "duration": 1033,
    "start_time": "2022-08-16T14:33:52.492Z"
   },
   {
    "duration": 15,
    "start_time": "2022-08-16T14:33:53.526Z"
   },
   {
    "duration": 23,
    "start_time": "2022-08-16T14:33:53.542Z"
   },
   {
    "duration": 13,
    "start_time": "2022-08-16T14:33:53.566Z"
   },
   {
    "duration": 8,
    "start_time": "2022-08-16T14:33:53.581Z"
   },
   {
    "duration": 213,
    "start_time": "2022-08-16T14:33:53.591Z"
   },
   {
    "duration": 48,
    "start_time": "2022-08-16T14:33:55.848Z"
   },
   {
    "duration": 205,
    "start_time": "2022-08-16T14:34:13.381Z"
   },
   {
    "duration": 10,
    "start_time": "2022-08-16T14:34:18.784Z"
   },
   {
    "duration": 8,
    "start_time": "2022-08-16T14:34:26.065Z"
   },
   {
    "duration": 11,
    "start_time": "2022-08-16T14:37:32.802Z"
   },
   {
    "duration": 11,
    "start_time": "2022-08-16T14:42:57.655Z"
   },
   {
    "duration": 8,
    "start_time": "2022-08-16T14:43:56.344Z"
   },
   {
    "duration": 17,
    "start_time": "2022-08-16T14:44:36.309Z"
   },
   {
    "duration": 2,
    "start_time": "2022-08-16T14:44:53.746Z"
   },
   {
    "duration": 66,
    "start_time": "2022-08-16T14:44:53.750Z"
   },
   {
    "duration": 12,
    "start_time": "2022-08-16T14:44:53.817Z"
   },
   {
    "duration": 13,
    "start_time": "2022-08-16T14:44:53.831Z"
   },
   {
    "duration": 6,
    "start_time": "2022-08-16T14:44:53.846Z"
   },
   {
    "duration": 15,
    "start_time": "2022-08-16T14:44:53.853Z"
   },
   {
    "duration": 52,
    "start_time": "2022-08-16T14:44:53.870Z"
   },
   {
    "duration": 1071,
    "start_time": "2022-08-16T14:44:53.924Z"
   },
   {
    "duration": 19,
    "start_time": "2022-08-16T14:44:54.997Z"
   },
   {
    "duration": 8,
    "start_time": "2022-08-16T14:44:55.018Z"
   },
   {
    "duration": 14,
    "start_time": "2022-08-16T14:44:55.027Z"
   },
   {
    "duration": 12,
    "start_time": "2022-08-16T14:44:55.042Z"
   },
   {
    "duration": 16,
    "start_time": "2022-08-16T14:45:03.681Z"
   },
   {
    "duration": 10,
    "start_time": "2022-08-16T14:45:12.439Z"
   },
   {
    "duration": 3,
    "start_time": "2022-08-16T14:46:30.415Z"
   },
   {
    "duration": 52,
    "start_time": "2022-08-16T14:46:30.420Z"
   },
   {
    "duration": 12,
    "start_time": "2022-08-16T14:46:30.473Z"
   },
   {
    "duration": 20,
    "start_time": "2022-08-16T14:46:30.486Z"
   },
   {
    "duration": 26,
    "start_time": "2022-08-16T14:46:30.508Z"
   },
   {
    "duration": 21,
    "start_time": "2022-08-16T14:46:30.535Z"
   },
   {
    "duration": 37,
    "start_time": "2022-08-16T14:46:30.558Z"
   },
   {
    "duration": 1035,
    "start_time": "2022-08-16T14:46:30.597Z"
   },
   {
    "duration": 15,
    "start_time": "2022-08-16T14:46:31.633Z"
   },
   {
    "duration": 12,
    "start_time": "2022-08-16T14:46:31.649Z"
   },
   {
    "duration": 20,
    "start_time": "2022-08-16T14:46:31.662Z"
   },
   {
    "duration": 13,
    "start_time": "2022-08-16T14:46:31.683Z"
   },
   {
    "duration": 21,
    "start_time": "2022-08-16T14:46:31.697Z"
   },
   {
    "duration": 14,
    "start_time": "2022-08-16T14:46:31.721Z"
   },
   {
    "duration": 13,
    "start_time": "2022-08-16T14:46:44.031Z"
   },
   {
    "duration": 6,
    "start_time": "2022-08-16T14:47:58.390Z"
   },
   {
    "duration": 11,
    "start_time": "2022-08-16T14:48:03.093Z"
   },
   {
    "duration": 2504,
    "start_time": "2022-08-17T11:29:28.261Z"
   },
   {
    "duration": 80,
    "start_time": "2022-08-17T11:29:30.767Z"
   },
   {
    "duration": 17,
    "start_time": "2022-08-17T11:29:30.849Z"
   },
   {
    "duration": 64,
    "start_time": "2022-08-17T11:29:30.868Z"
   },
   {
    "duration": 5,
    "start_time": "2022-08-17T11:29:30.935Z"
   },
   {
    "duration": 76,
    "start_time": "2022-08-17T11:29:30.942Z"
   },
   {
    "duration": 29,
    "start_time": "2022-08-17T11:29:31.020Z"
   },
   {
    "duration": 1603,
    "start_time": "2022-08-17T11:29:31.050Z"
   },
   {
    "duration": 23,
    "start_time": "2022-08-17T11:29:32.655Z"
   },
   {
    "duration": 6,
    "start_time": "2022-08-17T11:29:32.680Z"
   },
   {
    "duration": 61,
    "start_time": "2022-08-17T11:29:32.687Z"
   },
   {
    "duration": 11,
    "start_time": "2022-08-17T11:29:32.750Z"
   },
   {
    "duration": 27,
    "start_time": "2022-08-17T11:29:32.763Z"
   },
   {
    "duration": 5,
    "start_time": "2022-08-17T11:29:32.793Z"
   },
   {
    "duration": 25,
    "start_time": "2022-08-17T11:29:32.800Z"
   },
   {
    "duration": 24,
    "start_time": "2022-08-17T11:29:32.826Z"
   },
   {
    "duration": 136,
    "start_time": "2022-08-17T11:29:32.851Z"
   },
   {
    "duration": 0,
    "start_time": "2022-08-17T11:29:32.988Z"
   },
   {
    "duration": 0,
    "start_time": "2022-08-17T11:29:32.990Z"
   },
   {
    "duration": 715,
    "start_time": "2022-08-17T11:29:53.279Z"
   },
   {
    "duration": 3,
    "start_time": "2022-08-17T11:30:10.624Z"
   },
   {
    "duration": 9,
    "start_time": "2022-08-17T11:30:14.230Z"
   },
   {
    "duration": 7,
    "start_time": "2022-08-17T11:31:37.972Z"
   },
   {
    "duration": 2,
    "start_time": "2022-08-17T11:36:39.571Z"
   },
   {
    "duration": 55,
    "start_time": "2022-08-17T11:38:31.072Z"
   },
   {
    "duration": 3,
    "start_time": "2022-08-17T11:46:12.164Z"
   },
   {
    "duration": 74,
    "start_time": "2022-08-17T11:46:38.731Z"
   },
   {
    "duration": 3,
    "start_time": "2022-08-17T11:49:57.292Z"
   },
   {
    "duration": 16427,
    "start_time": "2022-08-17T11:51:16.636Z"
   },
   {
    "duration": 72,
    "start_time": "2022-08-17T11:54:09.832Z"
   },
   {
    "duration": 8,
    "start_time": "2022-08-17T12:21:51.709Z"
   },
   {
    "duration": 3,
    "start_time": "2022-08-17T12:22:13.408Z"
   },
   {
    "duration": 27,
    "start_time": "2022-08-17T12:22:21.993Z"
   },
   {
    "duration": 7,
    "start_time": "2022-08-17T12:22:23.128Z"
   },
   {
    "duration": 145,
    "start_time": "2022-08-17T12:23:28.568Z"
   },
   {
    "duration": 3,
    "start_time": "2022-08-17T13:11:26.238Z"
   },
   {
    "duration": 3,
    "start_time": "2022-08-17T13:11:30.497Z"
   },
   {
    "duration": 91,
    "start_time": "2022-08-17T13:11:30.501Z"
   },
   {
    "duration": 12,
    "start_time": "2022-08-17T13:11:30.593Z"
   },
   {
    "duration": 39,
    "start_time": "2022-08-17T13:11:30.606Z"
   },
   {
    "duration": 22,
    "start_time": "2022-08-17T13:11:30.647Z"
   },
   {
    "duration": 35,
    "start_time": "2022-08-17T13:11:30.670Z"
   },
   {
    "duration": 45,
    "start_time": "2022-08-17T13:11:30.706Z"
   },
   {
    "duration": 1013,
    "start_time": "2022-08-17T13:11:30.752Z"
   },
   {
    "duration": 15,
    "start_time": "2022-08-17T13:11:31.767Z"
   },
   {
    "duration": 10,
    "start_time": "2022-08-17T13:11:31.783Z"
   },
   {
    "duration": 17,
    "start_time": "2022-08-17T13:11:31.794Z"
   },
   {
    "duration": 6,
    "start_time": "2022-08-17T13:11:31.813Z"
   },
   {
    "duration": 18,
    "start_time": "2022-08-17T13:11:31.820Z"
   },
   {
    "duration": 13,
    "start_time": "2022-08-17T13:11:31.839Z"
   },
   {
    "duration": 20,
    "start_time": "2022-08-17T13:11:31.854Z"
   },
   {
    "duration": 17,
    "start_time": "2022-08-17T13:11:31.875Z"
   },
   {
    "duration": 25,
    "start_time": "2022-08-17T13:11:31.894Z"
   },
   {
    "duration": 31,
    "start_time": "2022-08-17T13:11:31.921Z"
   },
   {
    "duration": 60,
    "start_time": "2022-08-17T13:11:31.954Z"
   },
   {
    "duration": 101,
    "start_time": "2022-08-17T13:11:32.016Z"
   },
   {
    "duration": 14967,
    "start_time": "2022-08-17T13:11:32.119Z"
   },
   {
    "duration": 58,
    "start_time": "2022-08-17T13:11:47.088Z"
   },
   {
    "duration": 63,
    "start_time": "2022-08-17T13:11:47.148Z"
   },
   {
    "duration": 6,
    "start_time": "2022-08-17T13:13:16.011Z"
   },
   {
    "duration": 16433,
    "start_time": "2022-08-17T13:17:41.844Z"
   },
   {
    "duration": 12,
    "start_time": "2022-08-17T13:19:17.973Z"
   },
   {
    "duration": 83,
    "start_time": "2022-08-17T13:19:21.458Z"
   },
   {
    "duration": 8,
    "start_time": "2022-08-17T13:19:22.499Z"
   },
   {
    "duration": 125,
    "start_time": "2022-08-17T13:19:25.888Z"
   },
   {
    "duration": 15394,
    "start_time": "2022-08-17T13:19:28.975Z"
   },
   {
    "duration": 66,
    "start_time": "2022-08-17T13:19:58.402Z"
   },
   {
    "duration": 4,
    "start_time": "2022-08-17T13:25:36.996Z"
   },
   {
    "duration": 17,
    "start_time": "2022-08-17T13:30:37.793Z"
   },
   {
    "duration": 3,
    "start_time": "2022-08-17T13:31:02.194Z"
   },
   {
    "duration": 10,
    "start_time": "2022-08-17T13:31:12.285Z"
   },
   {
    "duration": 12,
    "start_time": "2022-08-17T13:31:14.144Z"
   },
   {
    "duration": 39,
    "start_time": "2022-08-17T13:31:47.585Z"
   },
   {
    "duration": 10,
    "start_time": "2022-08-17T13:34:25.102Z"
   },
   {
    "duration": 19611,
    "start_time": "2022-08-17T13:35:15.325Z"
   },
   {
    "duration": 12,
    "start_time": "2022-08-17T13:36:01.494Z"
   },
   {
    "duration": 91,
    "start_time": "2022-08-17T13:37:16.351Z"
   },
   {
    "duration": 211,
    "start_time": "2022-08-17T13:37:37.075Z"
   },
   {
    "duration": 16150,
    "start_time": "2022-08-17T13:37:42.247Z"
   },
   {
    "duration": 9,
    "start_time": "2022-08-17T13:38:02.351Z"
   },
   {
    "duration": 131332,
    "start_time": "2022-08-17T13:38:38.615Z"
   },
   {
    "duration": 119,
    "start_time": "2022-08-17T13:41:46.699Z"
   },
   {
    "duration": 6,
    "start_time": "2022-08-17T13:41:47.533Z"
   },
   {
    "duration": 225,
    "start_time": "2022-08-17T13:42:21.438Z"
   },
   {
    "duration": 127,
    "start_time": "2022-08-17T13:42:44.372Z"
   },
   {
    "duration": 134019,
    "start_time": "2022-08-17T13:42:52.622Z"
   },
   {
    "duration": 161,
    "start_time": "2022-08-17T13:45:16.245Z"
   },
   {
    "duration": 14,
    "start_time": "2022-08-17T13:45:39.271Z"
   },
   {
    "duration": 184812,
    "start_time": "2022-08-17T13:45:39.985Z"
   },
   {
    "duration": 275,
    "start_time": "2022-08-17T13:55:20.804Z"
   },
   {
    "duration": 259,
    "start_time": "2022-08-17T13:56:22.944Z"
   },
   {
    "duration": 266,
    "start_time": "2022-08-17T13:56:48.697Z"
   },
   {
    "duration": 619,
    "start_time": "2022-08-17T14:20:33.789Z"
   },
   {
    "duration": 628,
    "start_time": "2022-08-17T14:20:41.039Z"
   },
   {
    "duration": 1231,
    "start_time": "2022-08-17T14:20:48.010Z"
   },
   {
    "duration": 1674,
    "start_time": "2022-08-18T18:00:28.793Z"
   },
   {
    "duration": 156,
    "start_time": "2022-08-18T18:00:30.469Z"
   },
   {
    "duration": 17,
    "start_time": "2022-08-18T18:00:30.627Z"
   },
   {
    "duration": 32,
    "start_time": "2022-08-18T18:00:30.646Z"
   },
   {
    "duration": 5,
    "start_time": "2022-08-18T18:00:30.680Z"
   },
   {
    "duration": 36,
    "start_time": "2022-08-18T18:00:30.686Z"
   },
   {
    "duration": 40,
    "start_time": "2022-08-18T18:00:30.724Z"
   },
   {
    "duration": 1366,
    "start_time": "2022-08-18T18:00:30.766Z"
   },
   {
    "duration": 16,
    "start_time": "2022-08-18T18:00:32.133Z"
   },
   {
    "duration": 13,
    "start_time": "2022-08-18T18:00:32.150Z"
   },
   {
    "duration": 15,
    "start_time": "2022-08-18T18:00:32.164Z"
   },
   {
    "duration": 19,
    "start_time": "2022-08-18T18:00:32.181Z"
   },
   {
    "duration": 20,
    "start_time": "2022-08-18T18:00:32.202Z"
   },
   {
    "duration": 4,
    "start_time": "2022-08-18T18:00:32.224Z"
   },
   {
    "duration": 24,
    "start_time": "2022-08-18T18:00:32.229Z"
   },
   {
    "duration": 12,
    "start_time": "2022-08-18T18:00:32.255Z"
   },
   {
    "duration": 9,
    "start_time": "2022-08-18T18:00:32.268Z"
   },
   {
    "duration": 20,
    "start_time": "2022-08-18T18:00:32.278Z"
   },
   {
    "duration": 46,
    "start_time": "2022-08-18T18:00:32.300Z"
   },
   {
    "duration": 60,
    "start_time": "2022-08-18T18:00:32.348Z"
   },
   {
    "duration": 24510,
    "start_time": "2022-08-18T18:00:32.411Z"
   },
   {
    "duration": 105,
    "start_time": "2022-08-18T18:00:56.923Z"
   },
   {
    "duration": 7,
    "start_time": "2022-08-18T18:00:57.029Z"
   },
   {
    "duration": 169,
    "start_time": "2022-08-18T18:00:57.037Z"
   },
   {
    "duration": 10396,
    "start_time": "2022-08-18T18:00:57.208Z"
   },
   {
    "duration": 0,
    "start_time": "2022-08-18T18:01:07.607Z"
   },
   {
    "duration": 0,
    "start_time": "2022-08-18T18:01:07.608Z"
   },
   {
    "duration": 0,
    "start_time": "2022-08-18T18:01:07.610Z"
   },
   {
    "duration": 0,
    "start_time": "2022-08-18T18:01:07.611Z"
   },
   {
    "duration": 0,
    "start_time": "2022-08-18T18:01:07.612Z"
   },
   {
    "duration": 0,
    "start_time": "2022-08-18T18:01:07.614Z"
   },
   {
    "duration": 0,
    "start_time": "2022-08-18T18:01:07.615Z"
   },
   {
    "duration": 0,
    "start_time": "2022-08-18T18:01:07.616Z"
   },
   {
    "duration": 0,
    "start_time": "2022-08-18T18:01:07.618Z"
   },
   {
    "duration": 191,
    "start_time": "2022-08-18T18:01:19.758Z"
   },
   {
    "duration": 7,
    "start_time": "2022-08-18T18:01:20.187Z"
   },
   {
    "duration": 3,
    "start_time": "2022-08-18T18:21:00.752Z"
   },
   {
    "duration": 70,
    "start_time": "2022-08-18T18:21:00.756Z"
   },
   {
    "duration": 10,
    "start_time": "2022-08-18T18:21:00.828Z"
   },
   {
    "duration": 24,
    "start_time": "2022-08-18T18:21:00.839Z"
   },
   {
    "duration": 28,
    "start_time": "2022-08-18T18:21:00.866Z"
   },
   {
    "duration": 36,
    "start_time": "2022-08-18T18:21:00.895Z"
   },
   {
    "duration": 47,
    "start_time": "2022-08-18T18:21:00.932Z"
   },
   {
    "duration": 1266,
    "start_time": "2022-08-18T18:21:00.980Z"
   },
   {
    "duration": 14,
    "start_time": "2022-08-18T18:21:02.247Z"
   },
   {
    "duration": 16,
    "start_time": "2022-08-18T18:21:02.263Z"
   },
   {
    "duration": 32,
    "start_time": "2022-08-18T18:21:02.280Z"
   },
   {
    "duration": 32,
    "start_time": "2022-08-18T18:21:02.313Z"
   },
   {
    "duration": 16,
    "start_time": "2022-08-18T18:21:02.346Z"
   },
   {
    "duration": 3,
    "start_time": "2022-08-18T18:21:02.365Z"
   },
   {
    "duration": 12,
    "start_time": "2022-08-18T18:21:02.370Z"
   },
   {
    "duration": 12,
    "start_time": "2022-08-18T18:21:02.384Z"
   },
   {
    "duration": 3,
    "start_time": "2022-08-18T18:21:02.398Z"
   },
   {
    "duration": 8,
    "start_time": "2022-08-18T18:21:02.403Z"
   },
   {
    "duration": 94,
    "start_time": "2022-08-18T18:21:02.412Z"
   },
   {
    "duration": 98,
    "start_time": "2022-08-18T18:21:02.508Z"
   },
   {
    "duration": 23582,
    "start_time": "2022-08-18T18:21:02.608Z"
   },
   {
    "duration": 207,
    "start_time": "2022-08-18T18:21:26.192Z"
   },
   {
    "duration": 6,
    "start_time": "2022-08-18T18:21:26.400Z"
   },
   {
    "duration": 99,
    "start_time": "2022-08-18T18:21:26.407Z"
   },
   {
    "duration": 21920,
    "start_time": "2022-08-18T18:21:26.508Z"
   },
   {
    "duration": 125,
    "start_time": "2022-08-18T18:21:48.429Z"
   },
   {
    "duration": 5,
    "start_time": "2022-08-18T18:21:48.556Z"
   },
   {
    "duration": 17,
    "start_time": "2022-08-18T18:21:48.562Z"
   },
   {
    "duration": 51,
    "start_time": "2022-08-18T18:21:48.580Z"
   },
   {
    "duration": 78,
    "start_time": "2022-08-18T18:21:48.632Z"
   },
   {
    "duration": 30243,
    "start_time": "2022-08-18T18:21:48.712Z"
   },
   {
    "duration": 10,
    "start_time": "2022-08-18T18:22:18.957Z"
   },
   {
    "duration": 419,
    "start_time": "2022-08-18T18:22:18.968Z"
   },
   {
    "duration": 837,
    "start_time": "2022-08-18T18:22:19.388Z"
   },
   {
    "duration": 37209,
    "start_time": "2022-08-18T18:23:15.772Z"
   },
   {
    "duration": 319,
    "start_time": "2022-08-18T18:24:30.941Z"
   },
   {
    "duration": 367,
    "start_time": "2022-08-18T18:24:33.852Z"
   },
   {
    "duration": 6,
    "start_time": "2022-08-18T18:24:34.972Z"
   },
   {
    "duration": 35,
    "start_time": "2022-08-18T18:24:40.039Z"
   },
   {
    "duration": 36761,
    "start_time": "2022-08-18T18:24:45.150Z"
   },
   {
    "duration": 371,
    "start_time": "2022-08-18T18:25:41.245Z"
   },
   {
    "duration": 3,
    "start_time": "2022-08-18T18:26:53.585Z"
   },
   {
    "duration": 11,
    "start_time": "2022-08-18T18:26:56.343Z"
   },
   {
    "duration": 39,
    "start_time": "2022-08-18T18:26:56.945Z"
   },
   {
    "duration": 13,
    "start_time": "2022-08-18T18:26:59.157Z"
   },
   {
    "duration": 52904,
    "start_time": "2022-08-18T18:27:03.049Z"
   },
   {
    "duration": 11,
    "start_time": "2022-08-18T18:28:09.188Z"
   },
   {
    "duration": 454,
    "start_time": "2022-08-18T18:28:10.040Z"
   },
   {
    "duration": 548,
    "start_time": "2022-08-18T18:28:16.653Z"
   },
   {
    "duration": 4,
    "start_time": "2022-08-18T18:34:51.078Z"
   },
   {
    "duration": 4,
    "start_time": "2022-08-18T18:35:05.476Z"
   },
   {
    "duration": 41,
    "start_time": "2022-08-18T18:35:05.482Z"
   },
   {
    "duration": 13,
    "start_time": "2022-08-18T18:35:05.524Z"
   },
   {
    "duration": 14,
    "start_time": "2022-08-18T18:35:05.539Z"
   },
   {
    "duration": 11,
    "start_time": "2022-08-18T18:35:05.555Z"
   },
   {
    "duration": 21,
    "start_time": "2022-08-18T18:35:05.567Z"
   },
   {
    "duration": 36,
    "start_time": "2022-08-18T18:35:05.590Z"
   },
   {
    "duration": 1395,
    "start_time": "2022-08-18T18:35:05.627Z"
   },
   {
    "duration": 14,
    "start_time": "2022-08-18T18:35:07.023Z"
   },
   {
    "duration": 3,
    "start_time": "2022-08-18T18:35:07.039Z"
   },
   {
    "duration": 12,
    "start_time": "2022-08-18T18:35:07.043Z"
   },
   {
    "duration": 7,
    "start_time": "2022-08-18T18:35:07.056Z"
   },
   {
    "duration": 14,
    "start_time": "2022-08-18T18:35:07.064Z"
   },
   {
    "duration": 4,
    "start_time": "2022-08-18T18:35:07.081Z"
   },
   {
    "duration": 10,
    "start_time": "2022-08-18T18:35:07.105Z"
   },
   {
    "duration": 12,
    "start_time": "2022-08-18T18:35:07.117Z"
   },
   {
    "duration": 4,
    "start_time": "2022-08-18T18:35:07.130Z"
   },
   {
    "duration": 8,
    "start_time": "2022-08-18T18:35:07.136Z"
   },
   {
    "duration": 69,
    "start_time": "2022-08-18T18:35:07.145Z"
   },
   {
    "duration": 92,
    "start_time": "2022-08-18T18:35:07.215Z"
   },
   {
    "duration": 62896,
    "start_time": "2022-08-18T18:35:07.309Z"
   },
   {
    "duration": 349,
    "start_time": "2022-08-18T18:36:10.207Z"
   },
   {
    "duration": 6,
    "start_time": "2022-08-18T18:36:10.558Z"
   },
   {
    "duration": 53,
    "start_time": "2022-08-18T18:36:10.565Z"
   },
   {
    "duration": 60779,
    "start_time": "2022-08-18T18:36:10.706Z"
   },
   {
    "duration": 394,
    "start_time": "2022-08-18T18:37:11.487Z"
   },
   {
    "duration": 3,
    "start_time": "2022-08-18T18:37:11.883Z"
   },
   {
    "duration": 21,
    "start_time": "2022-08-18T18:37:11.888Z"
   },
   {
    "duration": 41,
    "start_time": "2022-08-18T18:37:11.910Z"
   },
   {
    "duration": 100,
    "start_time": "2022-08-18T18:37:12.006Z"
   },
   {
    "duration": 86049,
    "start_time": "2022-08-18T18:37:12.108Z"
   },
   {
    "duration": 11,
    "start_time": "2022-08-18T18:38:38.158Z"
   },
   {
    "duration": 578,
    "start_time": "2022-08-18T18:38:38.170Z"
   },
   {
    "duration": 933,
    "start_time": "2022-08-18T18:38:38.750Z"
   },
   {
    "duration": 10,
    "start_time": "2022-08-18T18:39:53.784Z"
   },
   {
    "duration": 8,
    "start_time": "2022-08-18T18:40:52.690Z"
   },
   {
    "duration": 4,
    "start_time": "2022-08-18T18:41:01.622Z"
   },
   {
    "duration": 4,
    "start_time": "2022-08-18T18:41:51.934Z"
   },
   {
    "duration": 9,
    "start_time": "2022-08-18T18:42:27.582Z"
   },
   {
    "duration": 781,
    "start_time": "2022-08-18T18:42:35.854Z"
   },
   {
    "duration": 1676,
    "start_time": "2022-08-19T11:38:05.443Z"
   },
   {
    "duration": 169,
    "start_time": "2022-08-19T11:38:07.121Z"
   },
   {
    "duration": 15,
    "start_time": "2022-08-19T11:38:07.292Z"
   },
   {
    "duration": 20,
    "start_time": "2022-08-19T11:38:07.309Z"
   },
   {
    "duration": 5,
    "start_time": "2022-08-19T11:38:07.331Z"
   },
   {
    "duration": 13,
    "start_time": "2022-08-19T11:38:07.338Z"
   },
   {
    "duration": 69,
    "start_time": "2022-08-19T11:38:07.352Z"
   },
   {
    "duration": 1545,
    "start_time": "2022-08-19T11:38:07.422Z"
   },
   {
    "duration": 44,
    "start_time": "2022-08-19T11:38:08.968Z"
   },
   {
    "duration": 5,
    "start_time": "2022-08-19T11:38:09.014Z"
   },
   {
    "duration": 8,
    "start_time": "2022-08-19T11:38:09.021Z"
   },
   {
    "duration": 8,
    "start_time": "2022-08-19T11:38:09.030Z"
   },
   {
    "duration": 52,
    "start_time": "2022-08-19T11:38:09.040Z"
   },
   {
    "duration": 4,
    "start_time": "2022-08-19T11:38:09.095Z"
   },
   {
    "duration": 39,
    "start_time": "2022-08-19T11:38:09.101Z"
   },
   {
    "duration": 19,
    "start_time": "2022-08-19T11:38:09.142Z"
   },
   {
    "duration": 6,
    "start_time": "2022-08-19T11:38:09.163Z"
   },
   {
    "duration": 11,
    "start_time": "2022-08-19T11:38:09.171Z"
   },
   {
    "duration": 39,
    "start_time": "2022-08-19T11:38:09.184Z"
   },
   {
    "duration": 71,
    "start_time": "2022-08-19T11:38:09.225Z"
   },
   {
    "duration": 73220,
    "start_time": "2022-08-19T11:38:09.299Z"
   },
   {
    "duration": 570,
    "start_time": "2022-08-19T11:39:22.521Z"
   },
   {
    "duration": 7,
    "start_time": "2022-08-19T11:39:23.093Z"
   },
   {
    "duration": 91,
    "start_time": "2022-08-19T11:39:23.102Z"
   },
   {
    "duration": 73892,
    "start_time": "2022-08-19T11:39:23.194Z"
   },
   {
    "duration": 639,
    "start_time": "2022-08-19T11:40:37.088Z"
   },
   {
    "duration": 4,
    "start_time": "2022-08-19T11:40:37.729Z"
   },
   {
    "duration": 20,
    "start_time": "2022-08-19T11:40:37.735Z"
   },
   {
    "duration": 63,
    "start_time": "2022-08-19T11:40:37.757Z"
   },
   {
    "duration": 81,
    "start_time": "2022-08-19T11:40:37.823Z"
   },
   {
    "duration": 104729,
    "start_time": "2022-08-19T11:40:37.907Z"
   },
   {
    "duration": 11,
    "start_time": "2022-08-19T11:42:22.638Z"
   },
   {
    "duration": 626,
    "start_time": "2022-08-19T11:42:22.650Z"
   },
   {
    "duration": 174,
    "start_time": "2022-08-19T11:49:47.150Z"
   },
   {
    "duration": 3,
    "start_time": "2022-08-19T11:49:51.163Z"
   },
   {
    "duration": 61,
    "start_time": "2022-08-19T11:49:51.168Z"
   },
   {
    "duration": 13,
    "start_time": "2022-08-19T11:49:51.231Z"
   },
   {
    "duration": 25,
    "start_time": "2022-08-19T11:49:51.245Z"
   },
   {
    "duration": 36,
    "start_time": "2022-08-19T11:49:51.271Z"
   },
   {
    "duration": 33,
    "start_time": "2022-08-19T11:49:51.309Z"
   },
   {
    "duration": 37,
    "start_time": "2022-08-19T11:49:51.344Z"
   },
   {
    "duration": 1721,
    "start_time": "2022-08-19T11:49:51.383Z"
   },
   {
    "duration": 17,
    "start_time": "2022-08-19T11:49:53.110Z"
   },
   {
    "duration": 4,
    "start_time": "2022-08-19T11:49:53.129Z"
   },
   {
    "duration": 9,
    "start_time": "2022-08-19T11:49:53.135Z"
   },
   {
    "duration": 10,
    "start_time": "2022-08-19T11:49:53.146Z"
   },
   {
    "duration": 38,
    "start_time": "2022-08-19T11:49:53.158Z"
   },
   {
    "duration": 5,
    "start_time": "2022-08-19T11:49:53.203Z"
   },
   {
    "duration": 17,
    "start_time": "2022-08-19T11:49:53.209Z"
   },
   {
    "duration": 14,
    "start_time": "2022-08-19T11:49:53.228Z"
   },
   {
    "duration": 15,
    "start_time": "2022-08-19T11:49:53.243Z"
   },
   {
    "duration": 0,
    "start_time": "2022-08-19T11:49:53.260Z"
   },
   {
    "duration": 0,
    "start_time": "2022-08-19T11:49:53.261Z"
   },
   {
    "duration": 0,
    "start_time": "2022-08-19T11:49:53.262Z"
   },
   {
    "duration": 1,
    "start_time": "2022-08-19T11:49:53.263Z"
   },
   {
    "duration": 0,
    "start_time": "2022-08-19T11:49:53.265Z"
   },
   {
    "duration": 0,
    "start_time": "2022-08-19T11:49:53.266Z"
   },
   {
    "duration": 0,
    "start_time": "2022-08-19T11:49:53.267Z"
   },
   {
    "duration": 0,
    "start_time": "2022-08-19T11:49:53.268Z"
   },
   {
    "duration": 0,
    "start_time": "2022-08-19T11:49:53.270Z"
   },
   {
    "duration": 0,
    "start_time": "2022-08-19T11:49:53.294Z"
   },
   {
    "duration": 0,
    "start_time": "2022-08-19T11:49:53.295Z"
   },
   {
    "duration": 0,
    "start_time": "2022-08-19T11:49:53.299Z"
   },
   {
    "duration": 0,
    "start_time": "2022-08-19T11:49:53.301Z"
   },
   {
    "duration": 0,
    "start_time": "2022-08-19T11:49:53.302Z"
   },
   {
    "duration": 0,
    "start_time": "2022-08-19T11:49:53.302Z"
   },
   {
    "duration": 0,
    "start_time": "2022-08-19T11:49:53.306Z"
   },
   {
    "duration": 0,
    "start_time": "2022-08-19T11:49:53.311Z"
   },
   {
    "duration": 15,
    "start_time": "2022-08-19T11:51:40.185Z"
   },
   {
    "duration": 25,
    "start_time": "2022-08-19T11:52:01.382Z"
   },
   {
    "duration": 1405,
    "start_time": "2022-08-19T11:52:30.642Z"
   },
   {
    "duration": 34,
    "start_time": "2022-08-19T11:52:52.485Z"
   },
   {
    "duration": 1177,
    "start_time": "2022-08-19T11:53:36.781Z"
   },
   {
    "duration": 5,
    "start_time": "2022-08-19T11:53:47.086Z"
   },
   {
    "duration": 65,
    "start_time": "2022-08-19T11:53:47.097Z"
   },
   {
    "duration": 13,
    "start_time": "2022-08-19T11:53:47.164Z"
   },
   {
    "duration": 31,
    "start_time": "2022-08-19T11:53:47.179Z"
   },
   {
    "duration": 22,
    "start_time": "2022-08-19T11:53:47.213Z"
   },
   {
    "duration": 38,
    "start_time": "2022-08-19T11:53:47.237Z"
   },
   {
    "duration": 40,
    "start_time": "2022-08-19T11:53:47.277Z"
   },
   {
    "duration": 1453,
    "start_time": "2022-08-19T11:53:47.319Z"
   },
   {
    "duration": 31,
    "start_time": "2022-08-19T11:53:48.773Z"
   },
   {
    "duration": 22,
    "start_time": "2022-08-19T11:53:48.806Z"
   },
   {
    "duration": 22,
    "start_time": "2022-08-19T11:53:48.830Z"
   },
   {
    "duration": 23,
    "start_time": "2022-08-19T11:53:48.853Z"
   },
   {
    "duration": 41,
    "start_time": "2022-08-19T11:53:48.878Z"
   },
   {
    "duration": 5,
    "start_time": "2022-08-19T11:53:48.923Z"
   },
   {
    "duration": 27,
    "start_time": "2022-08-19T11:53:48.930Z"
   },
   {
    "duration": 31,
    "start_time": "2022-08-19T11:53:48.959Z"
   },
   {
    "duration": 815,
    "start_time": "2022-08-19T11:53:48.993Z"
   },
   {
    "duration": 5,
    "start_time": "2022-08-19T11:53:49.810Z"
   },
   {
    "duration": 12,
    "start_time": "2022-08-19T11:53:49.816Z"
   },
   {
    "duration": 69,
    "start_time": "2022-08-19T11:53:49.830Z"
   },
   {
    "duration": 93,
    "start_time": "2022-08-19T11:53:49.901Z"
   },
   {
    "duration": 77479,
    "start_time": "2022-08-19T11:53:49.998Z"
   },
   {
    "duration": 573,
    "start_time": "2022-08-19T11:55:07.479Z"
   },
   {
    "duration": 16,
    "start_time": "2022-08-19T11:55:08.054Z"
   },
   {
    "duration": 40,
    "start_time": "2022-08-19T11:55:08.075Z"
   },
   {
    "duration": 78012,
    "start_time": "2022-08-19T11:55:08.117Z"
   },
   {
    "duration": 634,
    "start_time": "2022-08-19T11:56:26.131Z"
   },
   {
    "duration": 4,
    "start_time": "2022-08-19T11:56:26.766Z"
   },
   {
    "duration": 28,
    "start_time": "2022-08-19T11:56:26.772Z"
   },
   {
    "duration": 104,
    "start_time": "2022-08-19T11:56:26.809Z"
   },
   {
    "duration": 82,
    "start_time": "2022-08-19T11:56:26.916Z"
   },
   {
    "duration": 111192,
    "start_time": "2022-08-19T11:56:27.003Z"
   },
   {
    "duration": 12,
    "start_time": "2022-08-19T11:58:18.201Z"
   },
   {
    "duration": 652,
    "start_time": "2022-08-19T11:58:18.215Z"
   },
   {
    "duration": 112241,
    "start_time": "2022-08-19T11:59:13.448Z"
   },
   {
    "duration": 306,
    "start_time": "2022-08-19T12:01:09.324Z"
   },
   {
    "duration": 8,
    "start_time": "2022-08-19T12:01:10.762Z"
   },
   {
    "duration": 16,
    "start_time": "2022-08-19T12:01:31.983Z"
   },
   {
    "duration": 163619,
    "start_time": "2022-08-19T12:01:34.520Z"
   },
   {
    "duration": 10,
    "start_time": "2022-08-19T12:05:24.154Z"
   },
   {
    "duration": 889,
    "start_time": "2022-08-19T12:05:25.055Z"
   },
   {
    "duration": 60896,
    "start_time": "2022-08-19T12:05:57.982Z"
   },
   {
    "duration": 207,
    "start_time": "2022-08-19T12:07:15.446Z"
   },
   {
    "duration": 8,
    "start_time": "2022-08-19T12:07:16.040Z"
   },
   {
    "duration": 10,
    "start_time": "2022-08-19T12:07:22.328Z"
   },
   {
    "duration": 88235,
    "start_time": "2022-08-19T12:07:22.976Z"
   },
   {
    "duration": 10,
    "start_time": "2022-08-19T12:08:53.936Z"
   },
   {
    "duration": 888,
    "start_time": "2022-08-19T12:08:54.717Z"
   },
   {
    "duration": 11,
    "start_time": "2022-08-19T12:09:01.462Z"
   },
   {
    "duration": 964,
    "start_time": "2022-08-19T12:09:02.074Z"
   },
   {
    "duration": 12,
    "start_time": "2022-08-19T12:09:07.457Z"
   },
   {
    "duration": 924,
    "start_time": "2022-08-19T12:09:07.959Z"
   },
   {
    "duration": 890,
    "start_time": "2022-08-19T12:09:26.580Z"
   },
   {
    "duration": 1178,
    "start_time": "2022-08-19T12:09:34.969Z"
   },
   {
    "duration": 4,
    "start_time": "2022-08-19T12:10:35.128Z"
   },
   {
    "duration": 47,
    "start_time": "2022-08-19T12:10:35.134Z"
   },
   {
    "duration": 21,
    "start_time": "2022-08-19T12:10:35.183Z"
   },
   {
    "duration": 25,
    "start_time": "2022-08-19T12:10:35.207Z"
   },
   {
    "duration": 11,
    "start_time": "2022-08-19T12:10:35.234Z"
   },
   {
    "duration": 30,
    "start_time": "2022-08-19T12:10:35.247Z"
   },
   {
    "duration": 44,
    "start_time": "2022-08-19T12:10:35.279Z"
   },
   {
    "duration": 1401,
    "start_time": "2022-08-19T12:10:35.325Z"
   },
   {
    "duration": 18,
    "start_time": "2022-08-19T12:10:36.727Z"
   },
   {
    "duration": 9,
    "start_time": "2022-08-19T12:10:36.746Z"
   },
   {
    "duration": 15,
    "start_time": "2022-08-19T12:10:36.757Z"
   },
   {
    "duration": 27,
    "start_time": "2022-08-19T12:10:36.774Z"
   },
   {
    "duration": 16,
    "start_time": "2022-08-19T12:10:36.804Z"
   },
   {
    "duration": 4,
    "start_time": "2022-08-19T12:10:36.823Z"
   },
   {
    "duration": 32,
    "start_time": "2022-08-19T12:10:36.830Z"
   },
   {
    "duration": 15,
    "start_time": "2022-08-19T12:10:36.864Z"
   },
   {
    "duration": 13,
    "start_time": "2022-08-19T12:10:36.881Z"
   },
   {
    "duration": 21,
    "start_time": "2022-08-19T12:10:36.897Z"
   },
   {
    "duration": 13,
    "start_time": "2022-08-19T12:10:36.920Z"
   },
   {
    "duration": 72,
    "start_time": "2022-08-19T12:10:36.934Z"
   },
   {
    "duration": 97,
    "start_time": "2022-08-19T12:10:37.008Z"
   },
   {
    "duration": 61209,
    "start_time": "2022-08-19T12:10:37.107Z"
   },
   {
    "duration": 355,
    "start_time": "2022-08-19T12:11:38.318Z"
   },
   {
    "duration": 7,
    "start_time": "2022-08-19T12:11:38.675Z"
   },
   {
    "duration": 99,
    "start_time": "2022-08-19T12:11:38.697Z"
   },
   {
    "duration": 61552,
    "start_time": "2022-08-19T12:11:38.798Z"
   },
   {
    "duration": 689,
    "start_time": "2022-08-19T12:12:40.352Z"
   },
   {
    "duration": 4,
    "start_time": "2022-08-19T12:12:41.043Z"
   },
   {
    "duration": 25,
    "start_time": "2022-08-19T12:12:41.049Z"
   },
   {
    "duration": 115,
    "start_time": "2022-08-19T12:12:41.076Z"
   },
   {
    "duration": 18,
    "start_time": "2022-08-19T12:12:41.199Z"
   },
   {
    "duration": 88984,
    "start_time": "2022-08-19T12:12:41.219Z"
   },
   {
    "duration": 16,
    "start_time": "2022-08-19T12:14:10.205Z"
   },
   {
    "duration": 1245,
    "start_time": "2022-08-19T12:14:10.223Z"
   },
   {
    "duration": 6,
    "start_time": "2022-08-19T12:15:16.218Z"
   },
   {
    "duration": 14,
    "start_time": "2022-08-19T12:15:37.222Z"
   },
   {
    "duration": 8,
    "start_time": "2022-08-19T12:16:47.751Z"
   },
   {
    "duration": 26,
    "start_time": "2022-08-19T12:16:49.581Z"
   },
   {
    "duration": 9,
    "start_time": "2022-08-19T12:17:07.189Z"
   },
   {
    "duration": 62,
    "start_time": "2022-08-19T12:17:07.199Z"
   },
   {
    "duration": 13,
    "start_time": "2022-08-19T12:17:07.263Z"
   },
   {
    "duration": 48,
    "start_time": "2022-08-19T12:17:07.278Z"
   },
   {
    "duration": 5,
    "start_time": "2022-08-19T12:17:07.328Z"
   },
   {
    "duration": 17,
    "start_time": "2022-08-19T12:17:07.334Z"
   },
   {
    "duration": 46,
    "start_time": "2022-08-19T12:17:07.353Z"
   },
   {
    "duration": 1356,
    "start_time": "2022-08-19T12:17:07.404Z"
   },
   {
    "duration": 43,
    "start_time": "2022-08-19T12:17:08.763Z"
   },
   {
    "duration": 10,
    "start_time": "2022-08-19T12:17:08.808Z"
   },
   {
    "duration": 18,
    "start_time": "2022-08-19T12:17:08.819Z"
   },
   {
    "duration": 3,
    "start_time": "2022-08-19T12:17:48.259Z"
   },
   {
    "duration": 57,
    "start_time": "2022-08-19T12:17:48.264Z"
   },
   {
    "duration": 13,
    "start_time": "2022-08-19T12:17:48.323Z"
   },
   {
    "duration": 18,
    "start_time": "2022-08-19T12:17:48.338Z"
   },
   {
    "duration": 5,
    "start_time": "2022-08-19T12:17:48.358Z"
   },
   {
    "duration": 18,
    "start_time": "2022-08-19T12:17:48.365Z"
   },
   {
    "duration": 51,
    "start_time": "2022-08-19T12:17:48.385Z"
   },
   {
    "duration": 1346,
    "start_time": "2022-08-19T12:17:48.438Z"
   },
   {
    "duration": 24,
    "start_time": "2022-08-19T12:17:49.785Z"
   },
   {
    "duration": 11,
    "start_time": "2022-08-19T12:17:49.811Z"
   },
   {
    "duration": 22,
    "start_time": "2022-08-19T12:17:54.725Z"
   },
   {
    "duration": 3,
    "start_time": "2022-08-19T12:18:08.213Z"
   },
   {
    "duration": 5,
    "start_time": "2022-08-19T12:18:09.060Z"
   },
   {
    "duration": 4,
    "start_time": "2022-08-19T12:18:40.925Z"
   },
   {
    "duration": 5,
    "start_time": "2022-08-19T12:18:43.904Z"
   },
   {
    "duration": 3,
    "start_time": "2022-08-19T12:19:53.459Z"
   },
   {
    "duration": 4,
    "start_time": "2022-08-19T12:19:59.023Z"
   },
   {
    "duration": 5,
    "start_time": "2022-08-19T12:20:00.913Z"
   },
   {
    "duration": 5,
    "start_time": "2022-08-19T12:20:13.456Z"
   },
   {
    "duration": 10,
    "start_time": "2022-08-19T12:20:32.357Z"
   },
   {
    "duration": 15,
    "start_time": "2022-08-19T12:21:05.187Z"
   },
   {
    "duration": 10,
    "start_time": "2022-08-19T12:21:07.968Z"
   },
   {
    "duration": 5,
    "start_time": "2022-08-19T12:21:31.061Z"
   },
   {
    "duration": 13,
    "start_time": "2022-08-19T12:21:33.996Z"
   },
   {
    "duration": 4,
    "start_time": "2022-08-19T12:22:13.967Z"
   },
   {
    "duration": 61,
    "start_time": "2022-08-19T12:22:13.973Z"
   },
   {
    "duration": 13,
    "start_time": "2022-08-19T12:22:14.036Z"
   },
   {
    "duration": 16,
    "start_time": "2022-08-19T12:22:14.051Z"
   },
   {
    "duration": 8,
    "start_time": "2022-08-19T12:22:14.069Z"
   },
   {
    "duration": 23,
    "start_time": "2022-08-19T12:22:14.079Z"
   },
   {
    "duration": 201,
    "start_time": "2022-08-19T12:22:14.103Z"
   },
   {
    "duration": 1262,
    "start_time": "2022-08-19T12:22:14.306Z"
   },
   {
    "duration": 30,
    "start_time": "2022-08-19T12:22:15.569Z"
   },
   {
    "duration": 5,
    "start_time": "2022-08-19T12:22:15.601Z"
   },
   {
    "duration": 10,
    "start_time": "2022-08-19T12:22:15.608Z"
   },
   {
    "duration": 9,
    "start_time": "2022-08-19T12:22:15.620Z"
   },
   {
    "duration": 9,
    "start_time": "2022-08-19T12:22:15.631Z"
   },
   {
    "duration": 16,
    "start_time": "2022-08-19T12:22:15.643Z"
   },
   {
    "duration": 4,
    "start_time": "2022-08-19T12:22:15.660Z"
   },
   {
    "duration": 41,
    "start_time": "2022-08-19T12:22:15.666Z"
   },
   {
    "duration": 13,
    "start_time": "2022-08-19T12:22:15.709Z"
   },
   {
    "duration": 12,
    "start_time": "2022-08-19T12:22:15.724Z"
   },
   {
    "duration": 14,
    "start_time": "2022-08-19T12:22:15.737Z"
   },
   {
    "duration": 15,
    "start_time": "2022-08-19T12:22:15.753Z"
   },
   {
    "duration": 30,
    "start_time": "2022-08-19T12:22:15.770Z"
   },
   {
    "duration": 83,
    "start_time": "2022-08-19T12:22:15.810Z"
   },
   {
    "duration": 54361,
    "start_time": "2022-08-19T12:22:15.894Z"
   },
   {
    "duration": 397,
    "start_time": "2022-08-19T12:23:10.257Z"
   },
   {
    "duration": 8,
    "start_time": "2022-08-19T12:23:10.656Z"
   },
   {
    "duration": 126,
    "start_time": "2022-08-19T12:23:10.666Z"
   },
   {
    "duration": 54308,
    "start_time": "2022-08-19T12:23:10.794Z"
   },
   {
    "duration": 577,
    "start_time": "2022-08-19T12:24:05.104Z"
   },
   {
    "duration": 15,
    "start_time": "2022-08-19T12:24:05.683Z"
   },
   {
    "duration": 31,
    "start_time": "2022-08-19T12:24:05.699Z"
   },
   {
    "duration": 85,
    "start_time": "2022-08-19T12:24:05.731Z"
   },
   {
    "duration": 96,
    "start_time": "2022-08-19T12:24:05.898Z"
   },
   {
    "duration": 77312,
    "start_time": "2022-08-19T12:24:05.995Z"
   },
   {
    "duration": 11,
    "start_time": "2022-08-19T12:25:23.309Z"
   },
   {
    "duration": 983,
    "start_time": "2022-08-19T12:25:23.322Z"
   },
   {
    "duration": 784,
    "start_time": "2022-08-19T12:27:34.944Z"
   },
   {
    "duration": 780,
    "start_time": "2022-08-19T12:27:50.829Z"
   },
   {
    "duration": 83,
    "start_time": "2022-08-19T12:31:47.144Z"
   },
   {
    "duration": 5,
    "start_time": "2022-08-19T12:31:53.133Z"
   },
   {
    "duration": 5,
    "start_time": "2022-08-19T12:32:55.379Z"
   },
   {
    "duration": 11,
    "start_time": "2022-08-19T12:32:59.509Z"
   },
   {
    "duration": 122,
    "start_time": "2022-08-19T12:33:00.682Z"
   },
   {
    "duration": 11,
    "start_time": "2022-08-19T12:33:02.643Z"
   },
   {
    "duration": 3268,
    "start_time": "2022-08-19T12:33:03.494Z"
   },
   {
    "duration": 11,
    "start_time": "2022-08-19T12:33:08.376Z"
   },
   {
    "duration": 786,
    "start_time": "2022-08-19T12:33:09.149Z"
   },
   {
    "duration": 956,
    "start_time": "2022-08-19T12:33:37.433Z"
   },
   {
    "duration": 17,
    "start_time": "2022-08-19T12:34:41.342Z"
   },
   {
    "duration": 18,
    "start_time": "2022-08-19T12:34:49.709Z"
   },
   {
    "duration": 970,
    "start_time": "2022-08-19T12:35:31.981Z"
   },
   {
    "duration": 1008,
    "start_time": "2022-08-19T12:35:58.826Z"
   },
   {
    "duration": 65,
    "start_time": "2022-08-19T12:38:56.486Z"
   },
   {
    "duration": 68,
    "start_time": "2022-08-19T12:38:59.332Z"
   },
   {
    "duration": 2016,
    "start_time": "2022-08-19T12:39:05.508Z"
   },
   {
    "duration": 121,
    "start_time": "2022-08-19T12:39:11.258Z"
   },
   {
    "duration": 61133,
    "start_time": "2022-08-19T12:39:26.831Z"
   },
   {
    "duration": 17,
    "start_time": "2022-08-19T12:41:19.925Z"
   },
   {
    "duration": 510,
    "start_time": "2022-08-19T12:41:56.024Z"
   },
   {
    "duration": 40,
    "start_time": "2022-08-19T12:41:59.904Z"
   },
   {
    "duration": 508,
    "start_time": "2022-08-19T12:43:30.327Z"
   },
   {
    "duration": 40,
    "start_time": "2022-08-19T12:43:34.127Z"
   },
   {
    "duration": 4,
    "start_time": "2022-08-19T12:44:38.769Z"
   },
   {
    "duration": 53,
    "start_time": "2022-08-19T12:44:38.775Z"
   },
   {
    "duration": 13,
    "start_time": "2022-08-19T12:44:38.830Z"
   },
   {
    "duration": 16,
    "start_time": "2022-08-19T12:44:38.845Z"
   },
   {
    "duration": 21,
    "start_time": "2022-08-19T12:44:38.863Z"
   },
   {
    "duration": 40,
    "start_time": "2022-08-19T12:44:38.886Z"
   },
   {
    "duration": 46,
    "start_time": "2022-08-19T12:44:38.928Z"
   },
   {
    "duration": 1371,
    "start_time": "2022-08-19T12:44:38.975Z"
   },
   {
    "duration": 19,
    "start_time": "2022-08-19T12:44:40.347Z"
   },
   {
    "duration": 23,
    "start_time": "2022-08-19T12:44:40.369Z"
   },
   {
    "duration": 40,
    "start_time": "2022-08-19T12:44:40.394Z"
   },
   {
    "duration": 15,
    "start_time": "2022-08-19T12:44:40.436Z"
   },
   {
    "duration": 19,
    "start_time": "2022-08-19T12:44:40.453Z"
   },
   {
    "duration": 27,
    "start_time": "2022-08-19T12:44:40.474Z"
   },
   {
    "duration": 29,
    "start_time": "2022-08-19T12:44:40.503Z"
   },
   {
    "duration": 26,
    "start_time": "2022-08-19T12:44:40.534Z"
   },
   {
    "duration": 16,
    "start_time": "2022-08-19T12:44:40.562Z"
   },
   {
    "duration": 7,
    "start_time": "2022-08-19T12:44:40.580Z"
   },
   {
    "duration": 15,
    "start_time": "2022-08-19T12:44:40.589Z"
   },
   {
    "duration": 15,
    "start_time": "2022-08-19T12:44:40.607Z"
   },
   {
    "duration": 527,
    "start_time": "2022-08-19T12:44:46.864Z"
   },
   {
    "duration": 38,
    "start_time": "2022-08-19T12:44:49.181Z"
   },
   {
    "duration": 802,
    "start_time": "2022-08-19T12:45:11.723Z"
   },
   {
    "duration": 4,
    "start_time": "2022-08-19T12:45:14.723Z"
   },
   {
    "duration": 9,
    "start_time": "2022-08-19T12:45:15.512Z"
   },
   {
    "duration": 12,
    "start_time": "2022-08-19T12:45:41.232Z"
   },
   {
    "duration": 17,
    "start_time": "2022-08-19T12:45:45.667Z"
   },
   {
    "duration": 567,
    "start_time": "2022-08-19T12:45:46.150Z"
   },
   {
    "duration": 38,
    "start_time": "2022-08-19T12:45:49.384Z"
   },
   {
    "duration": 4,
    "start_time": "2022-08-19T12:46:21.550Z"
   },
   {
    "duration": 58,
    "start_time": "2022-08-19T12:46:21.556Z"
   },
   {
    "duration": 12,
    "start_time": "2022-08-19T12:46:21.616Z"
   },
   {
    "duration": 18,
    "start_time": "2022-08-19T12:46:21.630Z"
   },
   {
    "duration": 7,
    "start_time": "2022-08-19T12:46:21.650Z"
   },
   {
    "duration": 26,
    "start_time": "2022-08-19T12:46:21.658Z"
   },
   {
    "duration": 53,
    "start_time": "2022-08-19T12:46:21.685Z"
   },
   {
    "duration": 1517,
    "start_time": "2022-08-19T12:46:21.740Z"
   },
   {
    "duration": 16,
    "start_time": "2022-08-19T12:46:23.259Z"
   },
   {
    "duration": 25,
    "start_time": "2022-08-19T12:46:23.277Z"
   },
   {
    "duration": 5,
    "start_time": "2022-08-19T12:46:23.305Z"
   },
   {
    "duration": 12,
    "start_time": "2022-08-19T12:46:23.311Z"
   },
   {
    "duration": 10,
    "start_time": "2022-08-19T12:46:23.324Z"
   },
   {
    "duration": 14,
    "start_time": "2022-08-19T12:46:23.338Z"
   },
   {
    "duration": 5,
    "start_time": "2022-08-19T12:46:23.354Z"
   },
   {
    "duration": 42,
    "start_time": "2022-08-19T12:46:23.361Z"
   },
   {
    "duration": 15,
    "start_time": "2022-08-19T12:46:23.404Z"
   },
   {
    "duration": 728,
    "start_time": "2022-08-19T12:46:23.420Z"
   },
   {
    "duration": 4,
    "start_time": "2022-08-19T12:46:24.150Z"
   },
   {
    "duration": 12,
    "start_time": "2022-08-19T12:46:24.156Z"
   },
   {
    "duration": 4,
    "start_time": "2022-08-19T12:46:46.086Z"
   },
   {
    "duration": 18,
    "start_time": "2022-08-19T12:46:58.289Z"
   },
   {
    "duration": 513,
    "start_time": "2022-08-19T12:46:59.656Z"
   },
   {
    "duration": 36,
    "start_time": "2022-08-19T12:47:03.324Z"
   },
   {
    "duration": 1056,
    "start_time": "2022-08-19T12:47:31.404Z"
   },
   {
    "duration": 59,
    "start_time": "2022-08-19T12:47:33.617Z"
   },
   {
    "duration": 982,
    "start_time": "2022-08-19T12:47:42.970Z"
   },
   {
    "duration": 70,
    "start_time": "2022-08-19T12:47:45.736Z"
   },
   {
    "duration": 16,
    "start_time": "2022-08-19T12:47:49.738Z"
   },
   {
    "duration": 999,
    "start_time": "2022-08-19T12:47:50.412Z"
   },
   {
    "duration": 63,
    "start_time": "2022-08-19T12:47:52.815Z"
   },
   {
    "duration": 799,
    "start_time": "2022-08-19T12:48:24.004Z"
   },
   {
    "duration": 51,
    "start_time": "2022-08-19T12:48:26.735Z"
   },
   {
    "duration": 5,
    "start_time": "2022-08-19T12:48:50.517Z"
   },
   {
    "duration": 53,
    "start_time": "2022-08-19T12:48:50.524Z"
   },
   {
    "duration": 23,
    "start_time": "2022-08-19T12:48:50.579Z"
   },
   {
    "duration": 29,
    "start_time": "2022-08-19T12:48:50.605Z"
   },
   {
    "duration": 8,
    "start_time": "2022-08-19T12:48:50.638Z"
   },
   {
    "duration": 15,
    "start_time": "2022-08-19T12:48:50.648Z"
   },
   {
    "duration": 41,
    "start_time": "2022-08-19T12:48:50.665Z"
   },
   {
    "duration": 1298,
    "start_time": "2022-08-19T12:48:50.708Z"
   },
   {
    "duration": 30,
    "start_time": "2022-08-19T12:48:52.008Z"
   },
   {
    "duration": 8,
    "start_time": "2022-08-19T12:48:52.041Z"
   },
   {
    "duration": 11,
    "start_time": "2022-08-19T12:48:52.051Z"
   },
   {
    "duration": 15,
    "start_time": "2022-08-19T12:48:52.064Z"
   },
   {
    "duration": 33,
    "start_time": "2022-08-19T12:48:52.081Z"
   },
   {
    "duration": 31,
    "start_time": "2022-08-19T12:48:52.118Z"
   },
   {
    "duration": 7,
    "start_time": "2022-08-19T12:48:52.151Z"
   },
   {
    "duration": 20,
    "start_time": "2022-08-19T12:48:52.160Z"
   },
   {
    "duration": 17,
    "start_time": "2022-08-19T12:48:52.182Z"
   },
   {
    "duration": 751,
    "start_time": "2022-08-19T12:48:52.201Z"
   },
   {
    "duration": 4,
    "start_time": "2022-08-19T12:48:52.954Z"
   },
   {
    "duration": 23,
    "start_time": "2022-08-19T12:48:52.959Z"
   },
   {
    "duration": 25,
    "start_time": "2022-08-19T12:48:52.984Z"
   },
   {
    "duration": 191,
    "start_time": "2022-08-19T12:48:53.011Z"
   },
   {
    "duration": 54103,
    "start_time": "2022-08-19T12:48:53.203Z"
   },
   {
    "duration": 299,
    "start_time": "2022-08-19T12:49:47.308Z"
   },
   {
    "duration": 7,
    "start_time": "2022-08-19T12:49:47.609Z"
   },
   {
    "duration": 80,
    "start_time": "2022-08-19T12:49:47.618Z"
   },
   {
    "duration": 54902,
    "start_time": "2022-08-19T12:49:47.700Z"
   },
   {
    "duration": 504,
    "start_time": "2022-08-19T12:50:42.603Z"
   },
   {
    "duration": 4,
    "start_time": "2022-08-19T12:50:43.109Z"
   },
   {
    "duration": 19,
    "start_time": "2022-08-19T12:50:43.115Z"
   },
   {
    "duration": 68,
    "start_time": "2022-08-19T12:50:43.136Z"
   },
   {
    "duration": 91,
    "start_time": "2022-08-19T12:50:43.207Z"
   },
   {
    "duration": 77940,
    "start_time": "2022-08-19T12:50:43.299Z"
   },
   {
    "duration": 17,
    "start_time": "2022-08-19T12:52:01.241Z"
   },
   {
    "duration": 905,
    "start_time": "2022-08-19T12:52:01.260Z"
   },
   {
    "duration": 65,
    "start_time": "2022-08-19T12:52:02.167Z"
   },
   {
    "duration": 3,
    "start_time": "2022-08-19T12:52:36.849Z"
   },
   {
    "duration": 51,
    "start_time": "2022-08-19T12:52:36.855Z"
   },
   {
    "duration": 16,
    "start_time": "2022-08-19T12:52:36.908Z"
   },
   {
    "duration": 23,
    "start_time": "2022-08-19T12:52:36.926Z"
   },
   {
    "duration": 10,
    "start_time": "2022-08-19T12:52:36.951Z"
   },
   {
    "duration": 41,
    "start_time": "2022-08-19T12:52:36.963Z"
   },
   {
    "duration": 35,
    "start_time": "2022-08-19T12:52:37.006Z"
   },
   {
    "duration": 1524,
    "start_time": "2022-08-19T12:52:37.043Z"
   },
   {
    "duration": 34,
    "start_time": "2022-08-19T12:52:38.569Z"
   },
   {
    "duration": 4,
    "start_time": "2022-08-19T12:52:38.606Z"
   },
   {
    "duration": 8,
    "start_time": "2022-08-19T12:52:38.612Z"
   },
   {
    "duration": 8,
    "start_time": "2022-08-19T12:52:38.622Z"
   },
   {
    "duration": 14,
    "start_time": "2022-08-19T12:52:38.631Z"
   },
   {
    "duration": 15,
    "start_time": "2022-08-19T12:52:38.646Z"
   },
   {
    "duration": 4,
    "start_time": "2022-08-19T12:52:38.663Z"
   },
   {
    "duration": 29,
    "start_time": "2022-08-19T12:52:38.669Z"
   },
   {
    "duration": 14,
    "start_time": "2022-08-19T12:52:38.699Z"
   },
   {
    "duration": 605,
    "start_time": "2022-08-19T12:52:38.715Z"
   },
   {
    "duration": 5,
    "start_time": "2022-08-19T12:52:39.321Z"
   },
   {
    "duration": 13,
    "start_time": "2022-08-19T12:52:39.327Z"
   },
   {
    "duration": 60,
    "start_time": "2022-08-19T12:52:39.342Z"
   },
   {
    "duration": 92,
    "start_time": "2022-08-19T12:52:39.405Z"
   },
   {
    "duration": 54134,
    "start_time": "2022-08-19T12:52:39.499Z"
   },
   {
    "duration": 305,
    "start_time": "2022-08-19T12:53:33.635Z"
   },
   {
    "duration": 7,
    "start_time": "2022-08-19T12:53:33.942Z"
   },
   {
    "duration": 47,
    "start_time": "2022-08-19T12:53:33.951Z"
   },
   {
    "duration": 54158,
    "start_time": "2022-08-19T13:17:34.108Z"
   },
   {
    "duration": 524,
    "start_time": "2022-08-19T13:18:33.083Z"
   },
   {
    "duration": 4,
    "start_time": "2022-08-19T13:18:36.684Z"
   },
   {
    "duration": 12,
    "start_time": "2022-08-19T13:18:39.086Z"
   },
   {
    "duration": 49,
    "start_time": "2022-08-19T13:18:39.851Z"
   },
   {
    "duration": 16,
    "start_time": "2022-08-19T13:18:41.972Z"
   },
   {
    "duration": 77899,
    "start_time": "2022-08-19T13:18:43.387Z"
   },
   {
    "duration": 16,
    "start_time": "2022-08-19T13:20:15.515Z"
   },
   {
    "duration": 813,
    "start_time": "2022-08-19T13:20:18.410Z"
   },
   {
    "duration": 56,
    "start_time": "2022-08-19T13:20:21.004Z"
   },
   {
    "duration": 55458,
    "start_time": "2022-08-19T13:23:18.056Z"
   },
   {
    "duration": 431,
    "start_time": "2022-08-19T13:24:13.516Z"
   },
   {
    "duration": 54519,
    "start_time": "2022-08-19T13:24:57.988Z"
   },
   {
    "duration": 432,
    "start_time": "2022-08-19T13:26:16.684Z"
   },
   {
    "duration": 7,
    "start_time": "2022-08-19T13:26:18.304Z"
   },
   {
    "duration": 13,
    "start_time": "2022-08-19T13:26:44.337Z"
   },
   {
    "duration": 92,
    "start_time": "2022-08-19T13:26:45.021Z"
   },
   {
    "duration": 80102,
    "start_time": "2022-08-19T13:26:50.479Z"
   },
   {
    "duration": 16,
    "start_time": "2022-08-19T13:29:03.715Z"
   },
   {
    "duration": 4,
    "start_time": "2022-08-19T13:30:05.414Z"
   },
   {
    "duration": 13,
    "start_time": "2022-08-19T13:30:27.057Z"
   },
   {
    "duration": 25,
    "start_time": "2022-08-19T13:30:39.987Z"
   },
   {
    "duration": 835,
    "start_time": "2022-08-19T13:30:40.630Z"
   },
   {
    "duration": 63,
    "start_time": "2022-08-19T13:30:44.219Z"
   },
   {
    "duration": 4,
    "start_time": "2022-08-19T13:33:02.869Z"
   },
   {
    "duration": 4,
    "start_time": "2022-08-19T13:33:13.929Z"
   },
   {
    "duration": 55,
    "start_time": "2022-08-19T13:33:19.183Z"
   },
   {
    "duration": 12,
    "start_time": "2022-08-19T13:40:04.679Z"
   },
   {
    "duration": 9,
    "start_time": "2022-08-19T13:42:43.125Z"
   },
   {
    "duration": 13,
    "start_time": "2022-08-19T13:44:45.349Z"
   },
   {
    "duration": 12,
    "start_time": "2022-08-19T13:44:55.047Z"
   },
   {
    "duration": 41,
    "start_time": "2022-08-19T13:45:56.932Z"
   },
   {
    "duration": 527,
    "start_time": "2022-08-19T13:46:56.484Z"
   },
   {
    "duration": 86,
    "start_time": "2022-08-19T13:47:25.710Z"
   },
   {
    "duration": 74,
    "start_time": "2022-08-19T13:47:34.623Z"
   },
   {
    "duration": 517,
    "start_time": "2022-08-19T13:47:43.163Z"
   },
   {
    "duration": 42,
    "start_time": "2022-08-19T13:47:55.605Z"
   },
   {
    "duration": 77,
    "start_time": "2022-08-19T13:48:24.515Z"
   },
   {
    "duration": 839,
    "start_time": "2022-08-19T13:49:07.318Z"
   },
   {
    "duration": 823,
    "start_time": "2022-08-19T13:49:20.340Z"
   },
   {
    "duration": 54,
    "start_time": "2022-08-19T13:49:24.330Z"
   },
   {
    "duration": 556,
    "start_time": "2022-08-19T13:53:08.889Z"
   },
   {
    "duration": 3,
    "start_time": "2022-08-19T13:56:21.499Z"
   },
   {
    "duration": 5,
    "start_time": "2022-08-19T13:59:28.945Z"
   },
   {
    "duration": 41,
    "start_time": "2022-08-19T13:59:28.952Z"
   },
   {
    "duration": 15,
    "start_time": "2022-08-19T13:59:28.995Z"
   },
   {
    "duration": 17,
    "start_time": "2022-08-19T13:59:29.012Z"
   },
   {
    "duration": 5,
    "start_time": "2022-08-19T13:59:29.032Z"
   },
   {
    "duration": 13,
    "start_time": "2022-08-19T13:59:29.039Z"
   },
   {
    "duration": 64,
    "start_time": "2022-08-19T13:59:29.054Z"
   },
   {
    "duration": 1243,
    "start_time": "2022-08-19T13:59:29.120Z"
   },
   {
    "duration": 27,
    "start_time": "2022-08-19T13:59:30.366Z"
   },
   {
    "duration": 8,
    "start_time": "2022-08-19T13:59:30.394Z"
   },
   {
    "duration": 28,
    "start_time": "2022-08-19T13:59:30.404Z"
   },
   {
    "duration": 44,
    "start_time": "2022-08-19T13:59:30.434Z"
   },
   {
    "duration": 24,
    "start_time": "2022-08-19T13:59:30.479Z"
   },
   {
    "duration": 23,
    "start_time": "2022-08-19T13:59:30.507Z"
   },
   {
    "duration": 38,
    "start_time": "2022-08-19T13:59:30.531Z"
   },
   {
    "duration": 579,
    "start_time": "2022-08-19T13:59:30.570Z"
   },
   {
    "duration": 11,
    "start_time": "2022-08-19T13:59:31.150Z"
   },
   {
    "duration": 29,
    "start_time": "2022-08-19T13:59:31.163Z"
   },
   {
    "duration": 9,
    "start_time": "2022-08-19T13:59:31.194Z"
   },
   {
    "duration": 14,
    "start_time": "2022-08-19T13:59:31.204Z"
   },
   {
    "duration": 75,
    "start_time": "2022-08-19T13:59:31.219Z"
   },
   {
    "duration": 103,
    "start_time": "2022-08-19T13:59:31.298Z"
   },
   {
    "duration": 106,
    "start_time": "2022-08-19T13:59:31.496Z"
   },
   {
    "duration": 52970,
    "start_time": "2022-08-19T13:59:31.604Z"
   },
   {
    "duration": 413,
    "start_time": "2022-08-19T14:00:24.576Z"
   },
   {
    "duration": 41,
    "start_time": "2022-08-19T14:00:24.992Z"
   },
   {
    "duration": 62,
    "start_time": "2022-08-19T14:00:25.036Z"
   },
   {
    "duration": 52333,
    "start_time": "2022-08-19T14:00:25.195Z"
   },
   {
    "duration": 578,
    "start_time": "2022-08-19T14:01:17.530Z"
   },
   {
    "duration": 4,
    "start_time": "2022-08-19T14:01:18.110Z"
   },
   {
    "duration": 22,
    "start_time": "2022-08-19T14:01:18.116Z"
   },
   {
    "duration": 75,
    "start_time": "2022-08-19T14:01:18.139Z"
   },
   {
    "duration": 99,
    "start_time": "2022-08-19T14:01:18.300Z"
   },
   {
    "duration": 79446,
    "start_time": "2022-08-19T14:01:18.401Z"
   },
   {
    "duration": 14,
    "start_time": "2022-08-19T14:02:37.849Z"
   },
   {
    "duration": 838,
    "start_time": "2022-08-19T14:02:37.865Z"
   },
   {
    "duration": 58,
    "start_time": "2022-08-19T14:02:38.704Z"
   },
   {
    "duration": 1776,
    "start_time": "2022-08-24T10:55:53.827Z"
   },
   {
    "duration": 98,
    "start_time": "2022-08-24T10:55:55.605Z"
   },
   {
    "duration": 15,
    "start_time": "2022-08-24T10:55:55.705Z"
   },
   {
    "duration": 20,
    "start_time": "2022-08-24T10:55:55.722Z"
   },
   {
    "duration": 59,
    "start_time": "2022-08-24T10:55:55.744Z"
   },
   {
    "duration": 13,
    "start_time": "2022-08-24T10:55:55.805Z"
   },
   {
    "duration": 98,
    "start_time": "2022-08-24T10:55:55.819Z"
   },
   {
    "duration": 2888,
    "start_time": "2022-08-24T10:55:55.918Z"
   },
   {
    "duration": 17,
    "start_time": "2022-08-24T10:55:58.807Z"
   },
   {
    "duration": 10,
    "start_time": "2022-08-24T10:55:58.826Z"
   },
   {
    "duration": 14,
    "start_time": "2022-08-24T10:55:58.838Z"
   },
   {
    "duration": 57,
    "start_time": "2022-08-24T10:55:58.853Z"
   },
   {
    "duration": 9,
    "start_time": "2022-08-24T10:55:58.912Z"
   },
   {
    "duration": 23,
    "start_time": "2022-08-24T10:55:58.923Z"
   },
   {
    "duration": 58,
    "start_time": "2022-08-24T10:55:58.950Z"
   },
   {
    "duration": 36,
    "start_time": "2022-08-24T10:55:59.010Z"
   },
   {
    "duration": 60,
    "start_time": "2022-08-24T10:55:59.048Z"
   },
   {
    "duration": 14,
    "start_time": "2022-08-24T10:55:59.110Z"
   },
   {
    "duration": 16,
    "start_time": "2022-08-24T10:55:59.126Z"
   },
   {
    "duration": 827,
    "start_time": "2022-08-24T10:55:59.145Z"
   },
   {
    "duration": 37,
    "start_time": "2022-08-24T10:55:59.974Z"
   },
   {
    "duration": 96,
    "start_time": "2022-08-24T10:56:00.014Z"
   },
   {
    "duration": 191,
    "start_time": "2022-08-24T10:56:00.113Z"
   },
   {
    "duration": 50820,
    "start_time": "2022-08-24T10:56:00.306Z"
   },
   {
    "duration": 477,
    "start_time": "2022-08-24T10:56:51.128Z"
   },
   {
    "duration": 46,
    "start_time": "2022-08-24T10:56:51.608Z"
   },
   {
    "duration": 59,
    "start_time": "2022-08-24T10:56:51.656Z"
   },
   {
    "duration": 50649,
    "start_time": "2022-08-24T10:56:51.719Z"
   },
   {
    "duration": 385,
    "start_time": "2022-08-24T10:57:42.370Z"
   },
   {
    "duration": 4,
    "start_time": "2022-08-24T10:57:42.757Z"
   },
   {
    "duration": 15,
    "start_time": "2022-08-24T10:57:42.762Z"
   },
   {
    "duration": 47,
    "start_time": "2022-08-24T10:57:42.779Z"
   },
   {
    "duration": 100,
    "start_time": "2022-08-24T10:57:42.904Z"
   },
   {
    "duration": 73749,
    "start_time": "2022-08-24T10:57:43.005Z"
   },
   {
    "duration": 15,
    "start_time": "2022-08-24T10:58:56.756Z"
   },
   {
    "duration": 632,
    "start_time": "2022-08-24T10:58:56.773Z"
   },
   {
    "duration": 45,
    "start_time": "2022-08-24T10:58:57.407Z"
   },
   {
    "duration": 158,
    "start_time": "2022-08-24T10:59:45.343Z"
   },
   {
    "duration": 75,
    "start_time": "2022-08-24T11:00:36.442Z"
   },
   {
    "duration": 611,
    "start_time": "2022-08-24T11:01:07.488Z"
   },
   {
    "duration": 7,
    "start_time": "2022-08-24T11:01:54.800Z"
   },
   {
    "duration": 155,
    "start_time": "2022-08-24T11:02:06.521Z"
   },
   {
    "duration": 7,
    "start_time": "2022-08-24T11:02:24.940Z"
   },
   {
    "duration": 5,
    "start_time": "2022-08-24T11:06:40.644Z"
   },
   {
    "duration": 4,
    "start_time": "2022-08-24T11:06:52.572Z"
   },
   {
    "duration": 66,
    "start_time": "2022-08-24T11:06:52.579Z"
   },
   {
    "duration": 12,
    "start_time": "2022-08-24T11:06:52.648Z"
   },
   {
    "duration": 22,
    "start_time": "2022-08-24T11:06:52.662Z"
   },
   {
    "duration": 9,
    "start_time": "2022-08-24T11:06:52.687Z"
   },
   {
    "duration": 35,
    "start_time": "2022-08-24T11:06:52.698Z"
   },
   {
    "duration": 131,
    "start_time": "2022-08-24T11:06:52.735Z"
   },
   {
    "duration": 1236,
    "start_time": "2022-08-24T11:06:52.868Z"
   },
   {
    "duration": 17,
    "start_time": "2022-08-24T11:06:54.106Z"
   },
   {
    "duration": 15,
    "start_time": "2022-08-24T11:06:54.125Z"
   },
   {
    "duration": 9,
    "start_time": "2022-08-24T11:06:54.142Z"
   },
   {
    "duration": 8,
    "start_time": "2022-08-24T11:06:54.153Z"
   },
   {
    "duration": 9,
    "start_time": "2022-08-24T11:06:54.162Z"
   },
   {
    "duration": 33,
    "start_time": "2022-08-24T11:06:54.174Z"
   },
   {
    "duration": 8,
    "start_time": "2022-08-24T11:06:54.209Z"
   },
   {
    "duration": 6,
    "start_time": "2022-08-24T11:06:54.218Z"
   },
   {
    "duration": 19,
    "start_time": "2022-08-24T11:06:54.225Z"
   },
   {
    "duration": 12,
    "start_time": "2022-08-24T11:06:54.246Z"
   },
   {
    "duration": 6,
    "start_time": "2022-08-24T11:06:54.260Z"
   },
   {
    "duration": 9,
    "start_time": "2022-08-24T11:06:54.268Z"
   },
   {
    "duration": 22,
    "start_time": "2022-08-24T11:06:54.303Z"
   },
   {
    "duration": 4,
    "start_time": "2022-08-24T11:58:35.962Z"
   },
   {
    "duration": 48,
    "start_time": "2022-08-24T11:58:35.967Z"
   },
   {
    "duration": 13,
    "start_time": "2022-08-24T11:58:36.018Z"
   },
   {
    "duration": 16,
    "start_time": "2022-08-24T11:58:36.033Z"
   },
   {
    "duration": 5,
    "start_time": "2022-08-24T11:58:36.052Z"
   },
   {
    "duration": 16,
    "start_time": "2022-08-24T11:58:36.059Z"
   },
   {
    "duration": 35,
    "start_time": "2022-08-24T11:58:36.104Z"
   },
   {
    "duration": 1245,
    "start_time": "2022-08-24T11:58:36.141Z"
   },
   {
    "duration": 24,
    "start_time": "2022-08-24T11:58:37.389Z"
   },
   {
    "duration": 5,
    "start_time": "2022-08-24T11:58:37.415Z"
   },
   {
    "duration": 6,
    "start_time": "2022-08-24T11:58:37.424Z"
   },
   {
    "duration": 10,
    "start_time": "2022-08-24T11:58:37.431Z"
   },
   {
    "duration": 18,
    "start_time": "2022-08-24T11:58:37.443Z"
   },
   {
    "duration": 17,
    "start_time": "2022-08-24T11:58:37.463Z"
   },
   {
    "duration": 27,
    "start_time": "2022-08-24T11:58:37.481Z"
   },
   {
    "duration": 11,
    "start_time": "2022-08-24T11:58:37.509Z"
   },
   {
    "duration": 24,
    "start_time": "2022-08-24T11:58:37.522Z"
   },
   {
    "duration": 16,
    "start_time": "2022-08-24T11:58:37.548Z"
   },
   {
    "duration": 9,
    "start_time": "2022-08-24T11:58:37.567Z"
   },
   {
    "duration": 14,
    "start_time": "2022-08-24T11:58:37.578Z"
   },
   {
    "duration": 11,
    "start_time": "2022-08-24T12:03:35.915Z"
   },
   {
    "duration": 5,
    "start_time": "2022-08-24T12:04:03.991Z"
   },
   {
    "duration": 4,
    "start_time": "2022-08-24T12:04:20.609Z"
   },
   {
    "duration": 47,
    "start_time": "2022-08-24T12:04:20.615Z"
   },
   {
    "duration": 13,
    "start_time": "2022-08-24T12:04:20.664Z"
   },
   {
    "duration": 17,
    "start_time": "2022-08-24T12:04:20.679Z"
   },
   {
    "duration": 8,
    "start_time": "2022-08-24T12:04:20.698Z"
   },
   {
    "duration": 17,
    "start_time": "2022-08-24T12:04:20.707Z"
   },
   {
    "duration": 35,
    "start_time": "2022-08-24T12:04:20.726Z"
   },
   {
    "duration": 1314,
    "start_time": "2022-08-24T12:04:20.763Z"
   },
   {
    "duration": 29,
    "start_time": "2022-08-24T12:04:22.079Z"
   },
   {
    "duration": 5,
    "start_time": "2022-08-24T12:04:22.111Z"
   },
   {
    "duration": 11,
    "start_time": "2022-08-24T12:04:22.118Z"
   },
   {
    "duration": 25,
    "start_time": "2022-08-24T12:04:22.131Z"
   },
   {
    "duration": 22,
    "start_time": "2022-08-24T12:04:22.158Z"
   },
   {
    "duration": 24,
    "start_time": "2022-08-24T12:04:22.182Z"
   },
   {
    "duration": 13,
    "start_time": "2022-08-24T12:04:22.208Z"
   },
   {
    "duration": 16,
    "start_time": "2022-08-24T12:04:22.223Z"
   },
   {
    "duration": 30,
    "start_time": "2022-08-24T12:04:22.241Z"
   },
   {
    "duration": 26,
    "start_time": "2022-08-24T12:04:22.273Z"
   },
   {
    "duration": 5,
    "start_time": "2022-08-24T12:04:38.799Z"
   },
   {
    "duration": 41,
    "start_time": "2022-08-24T12:04:38.807Z"
   },
   {
    "duration": 18,
    "start_time": "2022-08-24T12:04:38.850Z"
   },
   {
    "duration": 32,
    "start_time": "2022-08-24T12:04:38.871Z"
   },
   {
    "duration": 6,
    "start_time": "2022-08-24T12:04:38.905Z"
   },
   {
    "duration": 26,
    "start_time": "2022-08-24T12:04:38.914Z"
   },
   {
    "duration": 46,
    "start_time": "2022-08-24T12:04:38.942Z"
   },
   {
    "duration": 1212,
    "start_time": "2022-08-24T12:04:39.003Z"
   },
   {
    "duration": 18,
    "start_time": "2022-08-24T12:04:40.217Z"
   },
   {
    "duration": 5,
    "start_time": "2022-08-24T12:04:40.237Z"
   },
   {
    "duration": 17,
    "start_time": "2022-08-24T12:04:40.244Z"
   },
   {
    "duration": 6,
    "start_time": "2022-08-24T12:04:40.263Z"
   },
   {
    "duration": 33,
    "start_time": "2022-08-24T12:04:40.271Z"
   },
   {
    "duration": 16,
    "start_time": "2022-08-24T12:04:40.306Z"
   },
   {
    "duration": 8,
    "start_time": "2022-08-24T12:04:40.324Z"
   },
   {
    "duration": 10,
    "start_time": "2022-08-24T12:04:40.333Z"
   },
   {
    "duration": 18,
    "start_time": "2022-08-24T12:04:40.344Z"
   },
   {
    "duration": 38,
    "start_time": "2022-08-24T12:04:40.364Z"
   },
   {
    "duration": 5,
    "start_time": "2022-08-24T12:04:40.404Z"
   },
   {
    "duration": 16,
    "start_time": "2022-08-24T12:04:40.410Z"
   },
   {
    "duration": 635,
    "start_time": "2022-08-24T12:04:40.428Z"
   },
   {
    "duration": 272,
    "start_time": "2022-08-24T12:05:15.762Z"
   },
   {
    "duration": 6,
    "start_time": "2022-08-24T12:06:37.037Z"
   },
   {
    "duration": 4,
    "start_time": "2022-08-24T12:06:44.906Z"
   },
   {
    "duration": 46,
    "start_time": "2022-08-24T12:06:44.913Z"
   },
   {
    "duration": 12,
    "start_time": "2022-08-24T12:06:44.961Z"
   },
   {
    "duration": 20,
    "start_time": "2022-08-24T12:06:44.975Z"
   },
   {
    "duration": 6,
    "start_time": "2022-08-24T12:06:44.997Z"
   },
   {
    "duration": 20,
    "start_time": "2022-08-24T12:06:45.004Z"
   },
   {
    "duration": 38,
    "start_time": "2022-08-24T12:06:45.027Z"
   },
   {
    "duration": 1246,
    "start_time": "2022-08-24T12:06:45.067Z"
   },
   {
    "duration": 18,
    "start_time": "2022-08-24T12:06:46.315Z"
   },
   {
    "duration": 11,
    "start_time": "2022-08-24T12:06:46.335Z"
   },
   {
    "duration": 12,
    "start_time": "2022-08-24T12:06:46.348Z"
   },
   {
    "duration": 18,
    "start_time": "2022-08-24T12:06:46.362Z"
   },
   {
    "duration": 12,
    "start_time": "2022-08-24T12:06:46.381Z"
   },
   {
    "duration": 28,
    "start_time": "2022-08-24T12:06:46.404Z"
   },
   {
    "duration": 14,
    "start_time": "2022-08-24T12:06:46.433Z"
   },
   {
    "duration": 32,
    "start_time": "2022-08-24T12:06:46.449Z"
   },
   {
    "duration": 18,
    "start_time": "2022-08-24T12:06:46.483Z"
   },
   {
    "duration": 167,
    "start_time": "2022-08-24T12:07:18.903Z"
   },
   {
    "duration": 4,
    "start_time": "2022-08-24T12:07:31.436Z"
   },
   {
    "duration": 60,
    "start_time": "2022-08-24T12:07:31.442Z"
   },
   {
    "duration": 12,
    "start_time": "2022-08-24T12:07:31.504Z"
   },
   {
    "duration": 16,
    "start_time": "2022-08-24T12:07:31.518Z"
   },
   {
    "duration": 10,
    "start_time": "2022-08-24T12:07:31.536Z"
   },
   {
    "duration": 20,
    "start_time": "2022-08-24T12:07:31.547Z"
   },
   {
    "duration": 54,
    "start_time": "2022-08-24T12:07:31.568Z"
   },
   {
    "duration": 1203,
    "start_time": "2022-08-24T12:07:31.623Z"
   },
   {
    "duration": 15,
    "start_time": "2022-08-24T12:07:32.828Z"
   },
   {
    "duration": 20,
    "start_time": "2022-08-24T12:07:32.845Z"
   },
   {
    "duration": 21,
    "start_time": "2022-08-24T12:07:32.867Z"
   },
   {
    "duration": 21,
    "start_time": "2022-08-24T12:07:32.889Z"
   },
   {
    "duration": 19,
    "start_time": "2022-08-24T12:07:32.912Z"
   },
   {
    "duration": 24,
    "start_time": "2022-08-24T12:07:32.934Z"
   },
   {
    "duration": 13,
    "start_time": "2022-08-24T12:07:32.959Z"
   },
   {
    "duration": 28,
    "start_time": "2022-08-24T12:07:32.973Z"
   },
   {
    "duration": 19,
    "start_time": "2022-08-24T12:07:33.002Z"
   },
   {
    "duration": 11,
    "start_time": "2022-08-24T12:07:33.023Z"
   },
   {
    "duration": 30,
    "start_time": "2022-08-24T12:07:33.036Z"
   },
   {
    "duration": 560,
    "start_time": "2022-08-24T12:07:33.068Z"
   },
   {
    "duration": 4,
    "start_time": "2022-08-24T12:14:19.491Z"
   },
   {
    "duration": 50,
    "start_time": "2022-08-24T12:14:19.497Z"
   },
   {
    "duration": 13,
    "start_time": "2022-08-24T12:14:19.549Z"
   },
   {
    "duration": 14,
    "start_time": "2022-08-24T12:14:19.564Z"
   },
   {
    "duration": 6,
    "start_time": "2022-08-24T12:14:19.581Z"
   },
   {
    "duration": 20,
    "start_time": "2022-08-24T12:14:19.589Z"
   },
   {
    "duration": 35,
    "start_time": "2022-08-24T12:14:19.611Z"
   },
   {
    "duration": 1439,
    "start_time": "2022-08-24T12:14:19.648Z"
   },
   {
    "duration": 25,
    "start_time": "2022-08-24T12:14:21.090Z"
   },
   {
    "duration": 5,
    "start_time": "2022-08-24T12:14:21.119Z"
   },
   {
    "duration": 16,
    "start_time": "2022-08-24T12:14:21.125Z"
   },
   {
    "duration": 14,
    "start_time": "2022-08-24T12:14:21.143Z"
   },
   {
    "duration": 11,
    "start_time": "2022-08-24T12:14:21.159Z"
   },
   {
    "duration": 15,
    "start_time": "2022-08-24T12:14:21.172Z"
   },
   {
    "duration": 15,
    "start_time": "2022-08-24T12:14:21.188Z"
   },
   {
    "duration": 12,
    "start_time": "2022-08-24T12:14:21.205Z"
   },
   {
    "duration": 15,
    "start_time": "2022-08-24T12:14:21.219Z"
   },
   {
    "duration": 7,
    "start_time": "2022-08-24T12:14:21.236Z"
   },
   {
    "duration": 11,
    "start_time": "2022-08-24T12:14:21.244Z"
   },
   {
    "duration": 777,
    "start_time": "2022-08-24T12:14:21.257Z"
   },
   {
    "duration": 74,
    "start_time": "2022-08-24T12:14:22.035Z"
   },
   {
    "duration": 0,
    "start_time": "2022-08-24T12:14:22.110Z"
   },
   {
    "duration": 0,
    "start_time": "2022-08-24T12:14:22.112Z"
   },
   {
    "duration": 0,
    "start_time": "2022-08-24T12:14:22.113Z"
   },
   {
    "duration": 0,
    "start_time": "2022-08-24T12:14:22.114Z"
   },
   {
    "duration": 0,
    "start_time": "2022-08-24T12:14:22.115Z"
   },
   {
    "duration": 0,
    "start_time": "2022-08-24T12:14:22.116Z"
   },
   {
    "duration": 0,
    "start_time": "2022-08-24T12:14:22.117Z"
   },
   {
    "duration": 0,
    "start_time": "2022-08-24T12:14:22.118Z"
   },
   {
    "duration": 0,
    "start_time": "2022-08-24T12:14:22.119Z"
   },
   {
    "duration": 0,
    "start_time": "2022-08-24T12:14:22.120Z"
   },
   {
    "duration": 0,
    "start_time": "2022-08-24T12:14:22.121Z"
   },
   {
    "duration": 0,
    "start_time": "2022-08-24T12:14:22.122Z"
   },
   {
    "duration": 0,
    "start_time": "2022-08-24T12:14:22.123Z"
   },
   {
    "duration": 0,
    "start_time": "2022-08-24T12:14:22.124Z"
   },
   {
    "duration": 0,
    "start_time": "2022-08-24T12:14:22.126Z"
   },
   {
    "duration": 0,
    "start_time": "2022-08-24T12:14:22.126Z"
   },
   {
    "duration": 0,
    "start_time": "2022-08-24T12:14:22.127Z"
   },
   {
    "duration": 0,
    "start_time": "2022-08-24T12:14:22.128Z"
   },
   {
    "duration": 0,
    "start_time": "2022-08-24T12:14:22.130Z"
   },
   {
    "duration": 0,
    "start_time": "2022-08-24T12:14:22.131Z"
   },
   {
    "duration": 0,
    "start_time": "2022-08-24T12:14:22.132Z"
   },
   {
    "duration": 5,
    "start_time": "2022-08-24T12:20:44.432Z"
   },
   {
    "duration": 49,
    "start_time": "2022-08-24T12:20:44.440Z"
   },
   {
    "duration": 12,
    "start_time": "2022-08-24T12:20:44.491Z"
   },
   {
    "duration": 21,
    "start_time": "2022-08-24T12:20:44.505Z"
   },
   {
    "duration": 14,
    "start_time": "2022-08-24T12:20:44.529Z"
   },
   {
    "duration": 21,
    "start_time": "2022-08-24T12:20:44.544Z"
   },
   {
    "duration": 39,
    "start_time": "2022-08-24T12:20:44.566Z"
   },
   {
    "duration": 1224,
    "start_time": "2022-08-24T12:20:44.606Z"
   },
   {
    "duration": 17,
    "start_time": "2022-08-24T12:20:45.831Z"
   },
   {
    "duration": 9,
    "start_time": "2022-08-24T12:20:45.849Z"
   },
   {
    "duration": 14,
    "start_time": "2022-08-24T12:20:45.859Z"
   },
   {
    "duration": 7,
    "start_time": "2022-08-24T12:20:45.874Z"
   },
   {
    "duration": 7,
    "start_time": "2022-08-24T12:20:45.903Z"
   },
   {
    "duration": 18,
    "start_time": "2022-08-24T12:20:45.915Z"
   },
   {
    "duration": 5,
    "start_time": "2022-08-24T12:20:45.935Z"
   },
   {
    "duration": 17,
    "start_time": "2022-08-24T12:20:45.942Z"
   },
   {
    "duration": 22,
    "start_time": "2022-08-24T12:20:45.960Z"
   },
   {
    "duration": 19,
    "start_time": "2022-08-24T12:20:45.984Z"
   },
   {
    "duration": 9,
    "start_time": "2022-08-24T12:20:46.005Z"
   },
   {
    "duration": 14,
    "start_time": "2022-08-24T12:20:46.016Z"
   },
   {
    "duration": 48,
    "start_time": "2022-08-24T12:20:46.032Z"
   },
   {
    "duration": 0,
    "start_time": "2022-08-24T12:20:46.081Z"
   },
   {
    "duration": 0,
    "start_time": "2022-08-24T12:20:46.083Z"
   },
   {
    "duration": 0,
    "start_time": "2022-08-24T12:20:46.084Z"
   },
   {
    "duration": 0,
    "start_time": "2022-08-24T12:20:46.085Z"
   },
   {
    "duration": 0,
    "start_time": "2022-08-24T12:20:46.086Z"
   },
   {
    "duration": 0,
    "start_time": "2022-08-24T12:20:46.087Z"
   },
   {
    "duration": 0,
    "start_time": "2022-08-24T12:20:46.088Z"
   },
   {
    "duration": 0,
    "start_time": "2022-08-24T12:20:46.089Z"
   },
   {
    "duration": 0,
    "start_time": "2022-08-24T12:20:46.090Z"
   },
   {
    "duration": 0,
    "start_time": "2022-08-24T12:20:46.091Z"
   },
   {
    "duration": 0,
    "start_time": "2022-08-24T12:20:46.092Z"
   },
   {
    "duration": 0,
    "start_time": "2022-08-24T12:20:46.093Z"
   },
   {
    "duration": 0,
    "start_time": "2022-08-24T12:20:46.103Z"
   },
   {
    "duration": 0,
    "start_time": "2022-08-24T12:20:46.104Z"
   },
   {
    "duration": 0,
    "start_time": "2022-08-24T12:20:46.105Z"
   },
   {
    "duration": 0,
    "start_time": "2022-08-24T12:20:46.106Z"
   },
   {
    "duration": 0,
    "start_time": "2022-08-24T12:20:46.107Z"
   },
   {
    "duration": 0,
    "start_time": "2022-08-24T12:20:46.108Z"
   },
   {
    "duration": 0,
    "start_time": "2022-08-24T12:20:46.109Z"
   },
   {
    "duration": 0,
    "start_time": "2022-08-24T12:20:46.110Z"
   },
   {
    "duration": 0,
    "start_time": "2022-08-24T12:20:46.111Z"
   },
   {
    "duration": 6,
    "start_time": "2022-08-24T12:21:37.007Z"
   },
   {
    "duration": 6,
    "start_time": "2022-08-24T12:22:20.559Z"
   },
   {
    "duration": 5,
    "start_time": "2022-08-24T12:22:25.119Z"
   },
   {
    "duration": 7,
    "start_time": "2022-08-24T12:24:28.449Z"
   },
   {
    "duration": 6,
    "start_time": "2022-08-24T12:24:39.340Z"
   },
   {
    "duration": 5,
    "start_time": "2022-08-24T12:26:02.674Z"
   },
   {
    "duration": 14,
    "start_time": "2022-08-24T12:26:30.206Z"
   },
   {
    "duration": 8,
    "start_time": "2022-08-24T12:26:53.783Z"
   },
   {
    "duration": 11,
    "start_time": "2022-08-24T12:27:00.670Z"
   },
   {
    "duration": 6,
    "start_time": "2022-08-24T12:27:07.355Z"
   },
   {
    "duration": 14,
    "start_time": "2022-08-24T12:27:25.497Z"
   },
   {
    "duration": 14,
    "start_time": "2022-08-24T12:27:35.407Z"
   },
   {
    "duration": 1060,
    "start_time": "2022-08-24T12:27:41.479Z"
   },
   {
    "duration": 15,
    "start_time": "2022-08-24T12:27:58.441Z"
   },
   {
    "duration": 14,
    "start_time": "2022-08-24T12:28:01.773Z"
   },
   {
    "duration": 13,
    "start_time": "2022-08-24T12:28:03.682Z"
   },
   {
    "duration": 6,
    "start_time": "2022-08-24T12:28:26.886Z"
   },
   {
    "duration": 4,
    "start_time": "2022-08-24T12:28:34.216Z"
   },
   {
    "duration": 58,
    "start_time": "2022-08-24T12:28:34.222Z"
   },
   {
    "duration": 13,
    "start_time": "2022-08-24T12:28:34.281Z"
   },
   {
    "duration": 26,
    "start_time": "2022-08-24T12:28:34.296Z"
   },
   {
    "duration": 28,
    "start_time": "2022-08-24T12:28:34.325Z"
   },
   {
    "duration": 19,
    "start_time": "2022-08-24T12:28:34.354Z"
   },
   {
    "duration": 52,
    "start_time": "2022-08-24T12:28:34.375Z"
   },
   {
    "duration": 1378,
    "start_time": "2022-08-24T12:28:34.429Z"
   },
   {
    "duration": 16,
    "start_time": "2022-08-24T12:28:35.809Z"
   },
   {
    "duration": 11,
    "start_time": "2022-08-24T12:28:35.827Z"
   },
   {
    "duration": 9,
    "start_time": "2022-08-24T12:28:45.892Z"
   },
   {
    "duration": 1276,
    "start_time": "2022-08-24T12:29:13.531Z"
   },
   {
    "duration": 6,
    "start_time": "2022-08-24T12:29:17.272Z"
   },
   {
    "duration": 82,
    "start_time": "2022-08-24T12:29:25.845Z"
   },
   {
    "duration": 6,
    "start_time": "2022-08-24T12:29:26.749Z"
   },
   {
    "duration": 4,
    "start_time": "2022-08-24T12:29:41.188Z"
   },
   {
    "duration": 48,
    "start_time": "2022-08-24T12:29:41.194Z"
   },
   {
    "duration": 15,
    "start_time": "2022-08-24T12:29:41.245Z"
   },
   {
    "duration": 32,
    "start_time": "2022-08-24T12:29:41.262Z"
   },
   {
    "duration": 25,
    "start_time": "2022-08-24T12:29:41.297Z"
   },
   {
    "duration": 25,
    "start_time": "2022-08-24T12:29:41.326Z"
   },
   {
    "duration": 38,
    "start_time": "2022-08-24T12:29:41.353Z"
   },
   {
    "duration": 1231,
    "start_time": "2022-08-24T12:29:41.393Z"
   },
   {
    "duration": 18,
    "start_time": "2022-08-24T12:29:42.626Z"
   },
   {
    "duration": 13,
    "start_time": "2022-08-24T12:29:42.646Z"
   },
   {
    "duration": 1113,
    "start_time": "2022-08-24T12:30:36.252Z"
   },
   {
    "duration": 7,
    "start_time": "2022-08-24T12:30:48.100Z"
   },
   {
    "duration": 189,
    "start_time": "2022-08-24T12:31:06.595Z"
   },
   {
    "duration": 6,
    "start_time": "2022-08-24T12:31:08.468Z"
   },
   {
    "duration": 15,
    "start_time": "2022-08-24T12:31:13.520Z"
   },
   {
    "duration": 14,
    "start_time": "2022-08-24T12:31:17.996Z"
   },
   {
    "duration": 7,
    "start_time": "2022-08-24T12:31:40.757Z"
   },
   {
    "duration": 3,
    "start_time": "2022-08-24T12:32:26.692Z"
   },
   {
    "duration": 47,
    "start_time": "2022-08-24T12:32:26.698Z"
   },
   {
    "duration": 14,
    "start_time": "2022-08-24T12:32:26.747Z"
   },
   {
    "duration": 17,
    "start_time": "2022-08-24T12:32:26.763Z"
   },
   {
    "duration": 5,
    "start_time": "2022-08-24T12:32:26.783Z"
   },
   {
    "duration": 16,
    "start_time": "2022-08-24T12:32:26.790Z"
   },
   {
    "duration": 35,
    "start_time": "2022-08-24T12:32:26.807Z"
   },
   {
    "duration": 1214,
    "start_time": "2022-08-24T12:32:26.843Z"
   },
   {
    "duration": 17,
    "start_time": "2022-08-24T12:32:28.059Z"
   },
   {
    "duration": 7,
    "start_time": "2022-08-24T12:32:28.078Z"
   },
   {
    "duration": 1119,
    "start_time": "2022-08-24T12:32:38.194Z"
   },
   {
    "duration": 220,
    "start_time": "2022-08-24T12:33:37.186Z"
   },
   {
    "duration": 7,
    "start_time": "2022-08-24T12:33:40.931Z"
   },
   {
    "duration": 5,
    "start_time": "2022-08-24T12:34:01.282Z"
   },
   {
    "duration": 70,
    "start_time": "2022-08-24T12:34:01.290Z"
   },
   {
    "duration": 13,
    "start_time": "2022-08-24T12:34:01.362Z"
   },
   {
    "duration": 51,
    "start_time": "2022-08-24T12:34:01.377Z"
   },
   {
    "duration": 30,
    "start_time": "2022-08-24T12:34:01.430Z"
   },
   {
    "duration": 56,
    "start_time": "2022-08-24T12:34:01.461Z"
   },
   {
    "duration": 67,
    "start_time": "2022-08-24T12:34:01.519Z"
   },
   {
    "duration": 1216,
    "start_time": "2022-08-24T12:34:01.587Z"
   },
   {
    "duration": 19,
    "start_time": "2022-08-24T12:34:02.805Z"
   },
   {
    "duration": 36,
    "start_time": "2022-08-24T12:34:02.826Z"
   },
   {
    "duration": 212,
    "start_time": "2022-08-24T12:34:02.864Z"
   },
   {
    "duration": 6,
    "start_time": "2022-08-24T12:34:03.078Z"
   },
   {
    "duration": 41,
    "start_time": "2022-08-24T12:34:03.085Z"
   },
   {
    "duration": 37,
    "start_time": "2022-08-24T12:34:03.129Z"
   },
   {
    "duration": 37,
    "start_time": "2022-08-24T12:34:03.168Z"
   },
   {
    "duration": 52,
    "start_time": "2022-08-24T12:34:03.206Z"
   },
   {
    "duration": 51,
    "start_time": "2022-08-24T12:34:03.261Z"
   },
   {
    "duration": 35,
    "start_time": "2022-08-24T12:34:03.314Z"
   },
   {
    "duration": 46,
    "start_time": "2022-08-24T12:34:03.350Z"
   },
   {
    "duration": 558,
    "start_time": "2022-08-24T12:34:03.398Z"
   },
   {
    "duration": 45,
    "start_time": "2022-08-24T12:34:03.958Z"
   },
   {
    "duration": 107,
    "start_time": "2022-08-24T12:34:04.005Z"
   },
   {
    "duration": 203,
    "start_time": "2022-08-24T12:34:04.114Z"
   },
   {
    "duration": 51263,
    "start_time": "2022-08-24T12:34:04.320Z"
   },
   {
    "duration": 337,
    "start_time": "2022-08-24T12:34:55.585Z"
   },
   {
    "duration": 35,
    "start_time": "2022-08-24T12:34:55.924Z"
   },
   {
    "duration": 44,
    "start_time": "2022-08-24T12:34:55.961Z"
   },
   {
    "duration": 103,
    "start_time": "2022-08-24T12:34:56.007Z"
   },
   {
    "duration": 49414,
    "start_time": "2022-08-24T12:34:56.202Z"
   },
   {
    "duration": 550,
    "start_time": "2022-08-24T12:35:45.619Z"
   },
   {
    "duration": 55,
    "start_time": "2022-08-24T12:35:46.170Z"
   },
   {
    "duration": 4,
    "start_time": "2022-08-24T12:35:46.227Z"
   },
   {
    "duration": 13,
    "start_time": "2022-08-24T12:35:46.232Z"
   },
   {
    "duration": 29,
    "start_time": "2022-08-24T12:35:46.247Z"
   },
   {
    "duration": 99,
    "start_time": "2022-08-24T12:35:46.304Z"
   },
   {
    "duration": 112,
    "start_time": "2022-08-24T12:35:46.405Z"
   },
   {
    "duration": 71423,
    "start_time": "2022-08-24T12:35:46.519Z"
   },
   {
    "duration": 16,
    "start_time": "2022-08-24T12:36:57.944Z"
   },
   {
    "duration": 651,
    "start_time": "2022-08-24T12:36:57.962Z"
   },
   {
    "duration": 58,
    "start_time": "2022-08-24T12:36:58.615Z"
   },
   {
    "duration": 56,
    "start_time": "2022-08-24T12:36:58.677Z"
   },
   {
    "duration": 46,
    "start_time": "2022-08-24T12:36:58.735Z"
   },
   {
    "duration": 12,
    "start_time": "2022-08-24T12:39:06.947Z"
   },
   {
    "duration": 13,
    "start_time": "2022-08-24T12:39:24.210Z"
   },
   {
    "duration": 19,
    "start_time": "2022-08-24T12:40:02.456Z"
   },
   {
    "duration": 20,
    "start_time": "2022-08-24T12:40:52.958Z"
   },
   {
    "duration": 147,
    "start_time": "2022-08-24T12:41:56.564Z"
   },
   {
    "duration": 310,
    "start_time": "2022-08-24T12:43:06.299Z"
   },
   {
    "duration": 5,
    "start_time": "2022-08-24T12:43:42.435Z"
   },
   {
    "duration": 325,
    "start_time": "2022-08-24T12:43:49.725Z"
   },
   {
    "duration": 280,
    "start_time": "2022-08-24T12:49:22.979Z"
   }
  ],
  "kernelspec": {
   "display_name": "Python 3 (ipykernel)",
   "language": "python",
   "name": "python3"
  },
  "language_info": {
   "codemirror_mode": {
    "name": "ipython",
    "version": 3
   },
   "file_extension": ".py",
   "mimetype": "text/x-python",
   "name": "python",
   "nbconvert_exporter": "python",
   "pygments_lexer": "ipython3",
   "version": "3.9.7"
  },
  "toc": {
   "base_numbering": 1,
   "nav_menu": {},
   "number_sections": true,
   "sideBar": true,
   "skip_h1_title": true,
   "title_cell": "Содержание",
   "title_sidebar": "Contents",
   "toc_cell": true,
   "toc_position": {
    "height": "calc(100% - 180px)",
    "left": "10px",
    "top": "150px",
    "width": "253px"
   },
   "toc_section_display": true,
   "toc_window_display": true
  }
 },
 "nbformat": 4,
 "nbformat_minor": 2
}
